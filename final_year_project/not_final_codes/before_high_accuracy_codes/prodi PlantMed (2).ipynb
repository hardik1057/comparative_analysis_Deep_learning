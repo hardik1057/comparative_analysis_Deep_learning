{
 "cells": [
  {
   "cell_type": "markdown",
   "id": "4851197a",
   "metadata": {
    "papermill": {
     "duration": 0.019113,
     "end_time": "2023-09-20T08:01:12.706702",
     "exception": false,
     "start_time": "2023-09-20T08:01:12.687589",
     "status": "completed"
    },
    "tags": []
   },
   "source": [
    "### Import Dependencies"
   ]
  },
  {
   "cell_type": "code",
   "execution_count": 3,
   "id": "91b79c9f",
   "metadata": {
    "execution": {
     "iopub.execute_input": "2023-09-20T08:01:12.744541Z",
     "iopub.status.busy": "2023-09-20T08:01:12.743925Z",
     "iopub.status.idle": "2023-09-20T08:01:12.757102Z",
     "shell.execute_reply": "2023-09-20T08:01:12.756130Z"
    },
    "papermill": {
     "duration": 0.035245,
     "end_time": "2023-09-20T08:01:12.759541",
     "exception": false,
     "start_time": "2023-09-20T08:01:12.724296",
     "status": "completed"
    },
    "tags": []
   },
   "outputs": [],
   "source": [
    "import numpy as np\n",
    "import pandas as pd\n",
    "import matplotlib.pyplot as plt"
   ]
  },
  {
   "cell_type": "code",
   "execution_count": 4,
   "id": "adfe339e",
   "metadata": {
    "execution": {
     "iopub.execute_input": "2023-09-20T08:01:12.795569Z",
     "iopub.status.busy": "2023-09-20T08:01:12.794800Z",
     "iopub.status.idle": "2023-09-20T08:01:14.779521Z",
     "shell.execute_reply": "2023-09-20T08:01:14.778259Z"
    },
    "papermill": {
     "duration": 2.005829,
     "end_time": "2023-09-20T08:01:14.782209",
     "exception": false,
     "start_time": "2023-09-20T08:01:12.776380",
     "status": "completed"
    },
    "tags": []
   },
   "outputs": [],
   "source": [
    "import torch\n",
    "from torchvision import datasets, transforms, models  # datsets  , transforms\n",
    "from torch.utils.data.sampler import SubsetRandomSampler\n",
    "import torch.nn as nn\n",
    "import torch.nn.functional as F\n",
    "from datetime import datetime"
   ]
  },
  {
   "cell_type": "markdown",
   "id": "a4af72f1",
   "metadata": {
    "papermill": {
     "duration": 0.016018,
     "end_time": "2023-09-20T08:01:14.815166",
     "exception": false,
     "start_time": "2023-09-20T08:01:14.799148",
     "status": "completed"
    },
    "tags": []
   },
   "source": [
    "### Import Dataset"
   ]
  },
  {
   "cell_type": "markdown",
   "id": "9732fd74",
   "metadata": {
    "papermill": {
     "duration": 0.016495,
     "end_time": "2023-09-20T08:01:14.848088",
     "exception": false,
     "start_time": "2023-09-20T08:01:14.831593",
     "status": "completed"
    },
    "tags": []
   },
   "source": [
    "dataset = datasets.ImageFolder<b> Dataset Link (Plant Vliiage Dataset ):</b><br> <a href='https://data.mendeley.com/datasets/tywbtsjrjv/1'> https://data.mendeley.com/datasets/tywbtsjrjv/1 </a> "
   ]
  },
  {
   "cell_type": "code",
   "execution_count": 5,
   "id": "f13492ec",
   "metadata": {
    "execution": {
     "iopub.execute_input": "2023-09-20T08:01:14.885267Z",
     "iopub.status.busy": "2023-09-20T08:01:14.883925Z",
     "iopub.status.idle": "2023-09-20T08:01:14.890841Z",
     "shell.execute_reply": "2023-09-20T08:01:14.889837Z"
    },
    "papermill": {
     "duration": 0.027933,
     "end_time": "2023-09-20T08:01:14.893257",
     "exception": false,
     "start_time": "2023-09-20T08:01:14.865324",
     "status": "completed"
    },
    "tags": []
   },
   "outputs": [],
   "source": [
    "transform2 = transforms.Compose([\n",
    "    transforms.Resize((299, 299)),  \n",
    "    transforms.ToTensor(),          \n",
    "    transforms.Normalize(\n",
    "        mean=[0.5, 0.5, 0.5],      \n",
    "        std=[0.5, 0.5, 0.5]         \n",
    "    )\n",
    "])"
   ]
  },
  {
   "cell_type": "code",
   "execution_count": 6,
   "id": "04991c8a",
   "metadata": {
    "execution": {
     "iopub.execute_input": "2023-09-20T08:01:14.929203Z",
     "iopub.status.busy": "2023-09-20T08:01:14.927414Z",
     "iopub.status.idle": "2023-09-20T08:01:14.933841Z",
     "shell.execute_reply": "2023-09-20T08:01:14.932905Z"
    },
    "papermill": {
     "duration": 0.026035,
     "end_time": "2023-09-20T08:01:14.935993",
     "exception": false,
     "start_time": "2023-09-20T08:01:14.909958",
     "status": "completed"
    },
    "tags": []
   },
   "outputs": [],
   "source": [
    "transform3 = transforms.Compose([\n",
    "    transforms.Resize((299, 299)),\n",
    "    transforms.ToTensor(),\n",
    "    transforms.Normalize(mean=[0.485, 0.456, 0.406], std=[0.229, 0.224, 0.225])\n",
    "])"
   ]
  },
  {
   "cell_type": "code",
   "execution_count": 7,
   "id": "232bc8a0",
   "metadata": {
    "execution": {
     "iopub.execute_input": "2023-09-20T08:01:14.970418Z",
     "iopub.status.busy": "2023-09-20T08:01:14.969705Z",
     "iopub.status.idle": "2023-09-20T08:01:14.975405Z",
     "shell.execute_reply": "2023-09-20T08:01:14.974408Z"
    },
    "papermill": {
     "duration": 0.025219,
     "end_time": "2023-09-20T08:01:14.977452",
     "exception": false,
     "start_time": "2023-09-20T08:01:14.952233",
     "status": "completed"
    },
    "tags": []
   },
   "outputs": [],
   "source": [
    "transform4 = transforms.Compose([\n",
    "    transforms.Resize((224, 224)),  \n",
    "    transforms.ToTensor(),          \n",
    "    transforms.Normalize(\n",
    "        mean=[0.485, 0.456, 0.406],  \n",
    "        std=[0.229, 0.224, 0.225]    \n",
    "    )\n",
    "])"
   ]
  },
  {
   "cell_type": "code",
   "execution_count": 8,
   "id": "48a7a6ab",
   "metadata": {
    "execution": {
     "iopub.execute_input": "2023-09-20T08:01:15.010983Z",
     "iopub.status.busy": "2023-09-20T08:01:15.010697Z",
     "iopub.status.idle": "2023-09-20T08:01:15.372118Z",
     "shell.execute_reply": "2023-09-20T08:01:15.371077Z"
    },
    "papermill": {
     "duration": 0.381212,
     "end_time": "2023-09-20T08:01:15.374717",
     "exception": false,
     "start_time": "2023-09-20T08:01:14.993505",
     "status": "completed"
    },
    "tags": []
   },
   "outputs": [
    {
     "ename": "FileNotFoundError",
     "evalue": "[WinError 3] The system cannot find the path specified: '/kaggle/input/mepco-tropic-leaf/MepcoTropicLeaf-V1/Database'",
     "output_type": "error",
     "traceback": [
      "\u001b[1;31m---------------------------------------------------------------------------\u001b[0m",
      "\u001b[1;31mFileNotFoundError\u001b[0m                         Traceback (most recent call last)",
      "Cell \u001b[1;32mIn[8], line 1\u001b[0m\n\u001b[1;32m----> 1\u001b[0m dataset \u001b[38;5;241m=\u001b[39m \u001b[43mdatasets\u001b[49m\u001b[38;5;241;43m.\u001b[39;49m\u001b[43mImageFolder\u001b[49m\u001b[43m(\u001b[49m\u001b[38;5;124;43m\"\u001b[39;49m\u001b[38;5;124;43m/kaggle/input/mepco-tropic-leaf/MepcoTropicLeaf-V1/Database\u001b[39;49m\u001b[38;5;124;43m\"\u001b[39;49m\u001b[43m,\u001b[49m\u001b[43m \u001b[49m\u001b[43mtransform\u001b[49m\u001b[38;5;241;43m=\u001b[39;49m\u001b[43mtransform4\u001b[49m\u001b[43m)\u001b[49m\n",
      "File \u001b[1;32m~\\AppData\\Local\\Packages\\PythonSoftwareFoundation.Python.3.13_qbz5n2kfra8p0\\LocalCache\\local-packages\\Python313\\site-packages\\torchvision\\datasets\\folder.py:328\u001b[0m, in \u001b[0;36mImageFolder.__init__\u001b[1;34m(self, root, transform, target_transform, loader, is_valid_file, allow_empty)\u001b[0m\n\u001b[0;32m    319\u001b[0m \u001b[38;5;28;01mdef\u001b[39;00m\u001b[38;5;250m \u001b[39m\u001b[38;5;21m__init__\u001b[39m(\n\u001b[0;32m    320\u001b[0m     \u001b[38;5;28mself\u001b[39m,\n\u001b[0;32m    321\u001b[0m     root: Union[\u001b[38;5;28mstr\u001b[39m, Path],\n\u001b[1;32m   (...)\u001b[0m\n\u001b[0;32m    326\u001b[0m     allow_empty: \u001b[38;5;28mbool\u001b[39m \u001b[38;5;241m=\u001b[39m \u001b[38;5;28;01mFalse\u001b[39;00m,\n\u001b[0;32m    327\u001b[0m ):\n\u001b[1;32m--> 328\u001b[0m     \u001b[38;5;28;43msuper\u001b[39;49m\u001b[43m(\u001b[49m\u001b[43m)\u001b[49m\u001b[38;5;241;43m.\u001b[39;49m\u001b[38;5;21;43m__init__\u001b[39;49m\u001b[43m(\u001b[49m\n\u001b[0;32m    329\u001b[0m \u001b[43m        \u001b[49m\u001b[43mroot\u001b[49m\u001b[43m,\u001b[49m\n\u001b[0;32m    330\u001b[0m \u001b[43m        \u001b[49m\u001b[43mloader\u001b[49m\u001b[43m,\u001b[49m\n\u001b[0;32m    331\u001b[0m \u001b[43m        \u001b[49m\u001b[43mIMG_EXTENSIONS\u001b[49m\u001b[43m \u001b[49m\u001b[38;5;28;43;01mif\u001b[39;49;00m\u001b[43m \u001b[49m\u001b[43mis_valid_file\u001b[49m\u001b[43m \u001b[49m\u001b[38;5;129;43;01mis\u001b[39;49;00m\u001b[43m \u001b[49m\u001b[38;5;28;43;01mNone\u001b[39;49;00m\u001b[43m \u001b[49m\u001b[38;5;28;43;01melse\u001b[39;49;00m\u001b[43m \u001b[49m\u001b[38;5;28;43;01mNone\u001b[39;49;00m\u001b[43m,\u001b[49m\n\u001b[0;32m    332\u001b[0m \u001b[43m        \u001b[49m\u001b[43mtransform\u001b[49m\u001b[38;5;241;43m=\u001b[39;49m\u001b[43mtransform\u001b[49m\u001b[43m,\u001b[49m\n\u001b[0;32m    333\u001b[0m \u001b[43m        \u001b[49m\u001b[43mtarget_transform\u001b[49m\u001b[38;5;241;43m=\u001b[39;49m\u001b[43mtarget_transform\u001b[49m\u001b[43m,\u001b[49m\n\u001b[0;32m    334\u001b[0m \u001b[43m        \u001b[49m\u001b[43mis_valid_file\u001b[49m\u001b[38;5;241;43m=\u001b[39;49m\u001b[43mis_valid_file\u001b[49m\u001b[43m,\u001b[49m\n\u001b[0;32m    335\u001b[0m \u001b[43m        \u001b[49m\u001b[43mallow_empty\u001b[49m\u001b[38;5;241;43m=\u001b[39;49m\u001b[43mallow_empty\u001b[49m\u001b[43m,\u001b[49m\n\u001b[0;32m    336\u001b[0m \u001b[43m    \u001b[49m\u001b[43m)\u001b[49m\n\u001b[0;32m    337\u001b[0m     \u001b[38;5;28mself\u001b[39m\u001b[38;5;241m.\u001b[39mimgs \u001b[38;5;241m=\u001b[39m \u001b[38;5;28mself\u001b[39m\u001b[38;5;241m.\u001b[39msamples\n",
      "File \u001b[1;32m~\\AppData\\Local\\Packages\\PythonSoftwareFoundation.Python.3.13_qbz5n2kfra8p0\\LocalCache\\local-packages\\Python313\\site-packages\\torchvision\\datasets\\folder.py:149\u001b[0m, in \u001b[0;36mDatasetFolder.__init__\u001b[1;34m(self, root, loader, extensions, transform, target_transform, is_valid_file, allow_empty)\u001b[0m\n\u001b[0;32m    138\u001b[0m \u001b[38;5;28;01mdef\u001b[39;00m\u001b[38;5;250m \u001b[39m\u001b[38;5;21m__init__\u001b[39m(\n\u001b[0;32m    139\u001b[0m     \u001b[38;5;28mself\u001b[39m,\n\u001b[0;32m    140\u001b[0m     root: Union[\u001b[38;5;28mstr\u001b[39m, Path],\n\u001b[1;32m   (...)\u001b[0m\n\u001b[0;32m    146\u001b[0m     allow_empty: \u001b[38;5;28mbool\u001b[39m \u001b[38;5;241m=\u001b[39m \u001b[38;5;28;01mFalse\u001b[39;00m,\n\u001b[0;32m    147\u001b[0m ) \u001b[38;5;241m-\u001b[39m\u001b[38;5;241m>\u001b[39m \u001b[38;5;28;01mNone\u001b[39;00m:\n\u001b[0;32m    148\u001b[0m     \u001b[38;5;28msuper\u001b[39m()\u001b[38;5;241m.\u001b[39m\u001b[38;5;21m__init__\u001b[39m(root, transform\u001b[38;5;241m=\u001b[39mtransform, target_transform\u001b[38;5;241m=\u001b[39mtarget_transform)\n\u001b[1;32m--> 149\u001b[0m     classes, class_to_idx \u001b[38;5;241m=\u001b[39m \u001b[38;5;28;43mself\u001b[39;49m\u001b[38;5;241;43m.\u001b[39;49m\u001b[43mfind_classes\u001b[49m\u001b[43m(\u001b[49m\u001b[38;5;28;43mself\u001b[39;49m\u001b[38;5;241;43m.\u001b[39;49m\u001b[43mroot\u001b[49m\u001b[43m)\u001b[49m\n\u001b[0;32m    150\u001b[0m     samples \u001b[38;5;241m=\u001b[39m \u001b[38;5;28mself\u001b[39m\u001b[38;5;241m.\u001b[39mmake_dataset(\n\u001b[0;32m    151\u001b[0m         \u001b[38;5;28mself\u001b[39m\u001b[38;5;241m.\u001b[39mroot,\n\u001b[0;32m    152\u001b[0m         class_to_idx\u001b[38;5;241m=\u001b[39mclass_to_idx,\n\u001b[1;32m   (...)\u001b[0m\n\u001b[0;32m    155\u001b[0m         allow_empty\u001b[38;5;241m=\u001b[39mallow_empty,\n\u001b[0;32m    156\u001b[0m     )\n\u001b[0;32m    158\u001b[0m     \u001b[38;5;28mself\u001b[39m\u001b[38;5;241m.\u001b[39mloader \u001b[38;5;241m=\u001b[39m loader\n",
      "File \u001b[1;32m~\\AppData\\Local\\Packages\\PythonSoftwareFoundation.Python.3.13_qbz5n2kfra8p0\\LocalCache\\local-packages\\Python313\\site-packages\\torchvision\\datasets\\folder.py:234\u001b[0m, in \u001b[0;36mDatasetFolder.find_classes\u001b[1;34m(self, directory)\u001b[0m\n\u001b[0;32m    207\u001b[0m \u001b[38;5;28;01mdef\u001b[39;00m\u001b[38;5;250m \u001b[39m\u001b[38;5;21mfind_classes\u001b[39m(\u001b[38;5;28mself\u001b[39m, directory: Union[\u001b[38;5;28mstr\u001b[39m, Path]) \u001b[38;5;241m-\u001b[39m\u001b[38;5;241m>\u001b[39m Tuple[List[\u001b[38;5;28mstr\u001b[39m], Dict[\u001b[38;5;28mstr\u001b[39m, \u001b[38;5;28mint\u001b[39m]]:\n\u001b[0;32m    208\u001b[0m \u001b[38;5;250m    \u001b[39m\u001b[38;5;124;03m\"\"\"Find the class folders in a dataset structured as follows::\u001b[39;00m\n\u001b[0;32m    209\u001b[0m \n\u001b[0;32m    210\u001b[0m \u001b[38;5;124;03m        directory/\u001b[39;00m\n\u001b[1;32m   (...)\u001b[0m\n\u001b[0;32m    232\u001b[0m \u001b[38;5;124;03m        (Tuple[List[str], Dict[str, int]]): List of all classes and dictionary mapping each class to an index.\u001b[39;00m\n\u001b[0;32m    233\u001b[0m \u001b[38;5;124;03m    \"\"\"\u001b[39;00m\n\u001b[1;32m--> 234\u001b[0m     \u001b[38;5;28;01mreturn\u001b[39;00m \u001b[43mfind_classes\u001b[49m\u001b[43m(\u001b[49m\u001b[43mdirectory\u001b[49m\u001b[43m)\u001b[49m\n",
      "File \u001b[1;32m~\\AppData\\Local\\Packages\\PythonSoftwareFoundation.Python.3.13_qbz5n2kfra8p0\\LocalCache\\local-packages\\Python313\\site-packages\\torchvision\\datasets\\folder.py:41\u001b[0m, in \u001b[0;36mfind_classes\u001b[1;34m(directory)\u001b[0m\n\u001b[0;32m     36\u001b[0m \u001b[38;5;28;01mdef\u001b[39;00m\u001b[38;5;250m \u001b[39m\u001b[38;5;21mfind_classes\u001b[39m(directory: Union[\u001b[38;5;28mstr\u001b[39m, Path]) \u001b[38;5;241m-\u001b[39m\u001b[38;5;241m>\u001b[39m Tuple[List[\u001b[38;5;28mstr\u001b[39m], Dict[\u001b[38;5;28mstr\u001b[39m, \u001b[38;5;28mint\u001b[39m]]:\n\u001b[0;32m     37\u001b[0m \u001b[38;5;250m    \u001b[39m\u001b[38;5;124;03m\"\"\"Finds the class folders in a dataset.\u001b[39;00m\n\u001b[0;32m     38\u001b[0m \n\u001b[0;32m     39\u001b[0m \u001b[38;5;124;03m    See :class:`DatasetFolder` for details.\u001b[39;00m\n\u001b[0;32m     40\u001b[0m \u001b[38;5;124;03m    \"\"\"\u001b[39;00m\n\u001b[1;32m---> 41\u001b[0m     classes \u001b[38;5;241m=\u001b[39m \u001b[38;5;28msorted\u001b[39m(entry\u001b[38;5;241m.\u001b[39mname \u001b[38;5;28;01mfor\u001b[39;00m entry \u001b[38;5;129;01min\u001b[39;00m \u001b[43mos\u001b[49m\u001b[38;5;241;43m.\u001b[39;49m\u001b[43mscandir\u001b[49m\u001b[43m(\u001b[49m\u001b[43mdirectory\u001b[49m\u001b[43m)\u001b[49m \u001b[38;5;28;01mif\u001b[39;00m entry\u001b[38;5;241m.\u001b[39mis_dir())\n\u001b[0;32m     42\u001b[0m     \u001b[38;5;28;01mif\u001b[39;00m \u001b[38;5;129;01mnot\u001b[39;00m classes:\n\u001b[0;32m     43\u001b[0m         \u001b[38;5;28;01mraise\u001b[39;00m \u001b[38;5;167;01mFileNotFoundError\u001b[39;00m(\u001b[38;5;124mf\u001b[39m\u001b[38;5;124m\"\u001b[39m\u001b[38;5;124mCouldn\u001b[39m\u001b[38;5;124m'\u001b[39m\u001b[38;5;124mt find any class folder in \u001b[39m\u001b[38;5;132;01m{\u001b[39;00mdirectory\u001b[38;5;132;01m}\u001b[39;00m\u001b[38;5;124m.\u001b[39m\u001b[38;5;124m\"\u001b[39m)\n",
      "\u001b[1;31mFileNotFoundError\u001b[0m: [WinError 3] The system cannot find the path specified: '/kaggle/input/mepco-tropic-leaf/MepcoTropicLeaf-V1/Database'"
     ]
    }
   ],
   "source": [
    "dataset = datasets.ImageFolder(\"/kaggle/input/mepco-tropic-leaf/MepcoTropicLeaf-V1/Database\", transform=transform4)"
   ]
  },
  {
   "cell_type": "code",
   "execution_count": 7,
   "id": "3c122a64",
   "metadata": {
    "execution": {
     "iopub.execute_input": "2023-09-20T08:01:15.412137Z",
     "iopub.status.busy": "2023-09-20T08:01:15.411123Z",
     "iopub.status.idle": "2023-09-20T08:01:15.420444Z",
     "shell.execute_reply": "2023-09-20T08:01:15.419443Z"
    },
    "papermill": {
     "duration": 0.029201,
     "end_time": "2023-09-20T08:01:15.422945",
     "exception": false,
     "start_time": "2023-09-20T08:01:15.393744",
     "status": "completed"
    },
    "tags": []
   },
   "outputs": [
    {
     "data": {
      "text/plain": [
       "Dataset ImageFolder\n",
       "    Number of datapoints: 3777\n",
       "    Root location: /kaggle/input/mepco-tropic-leaf/MepcoTropicLeaf-V1/Database\n",
       "    StandardTransform\n",
       "Transform: Compose(\n",
       "               Resize(size=(224, 224), interpolation=bilinear, max_size=None, antialias=None)\n",
       "               ToTensor()\n",
       "               Normalize(mean=[0.485, 0.456, 0.406], std=[0.229, 0.224, 0.225])\n",
       "           )"
      ]
     },
     "execution_count": 7,
     "metadata": {},
     "output_type": "execute_result"
    }
   ],
   "source": [
    "dataset"
   ]
  },
  {
   "cell_type": "code",
   "execution_count": 8,
   "id": "4c3aacdd",
   "metadata": {
    "execution": {
     "iopub.execute_input": "2023-09-20T08:01:15.457544Z",
     "iopub.status.busy": "2023-09-20T08:01:15.456596Z",
     "iopub.status.idle": "2023-09-20T08:01:15.461806Z",
     "shell.execute_reply": "2023-09-20T08:01:15.460909Z"
    },
    "papermill": {
     "duration": 0.024606,
     "end_time": "2023-09-20T08:01:15.463938",
     "exception": false,
     "start_time": "2023-09-20T08:01:15.439332",
     "status": "completed"
    },
    "tags": []
   },
   "outputs": [],
   "source": [
    "indices = list(range(len(dataset)))"
   ]
  },
  {
   "cell_type": "code",
   "execution_count": 9,
   "id": "331e8f1a",
   "metadata": {
    "execution": {
     "iopub.execute_input": "2023-09-20T08:01:15.498147Z",
     "iopub.status.busy": "2023-09-20T08:01:15.497291Z",
     "iopub.status.idle": "2023-09-20T08:01:15.502820Z",
     "shell.execute_reply": "2023-09-20T08:01:15.501885Z"
    },
    "papermill": {
     "duration": 0.024767,
     "end_time": "2023-09-20T08:01:15.504976",
     "exception": false,
     "start_time": "2023-09-20T08:01:15.480209",
     "status": "completed"
    },
    "tags": []
   },
   "outputs": [],
   "source": [
    "split = int(np.floor(0.70 * len(dataset)))  # train_size"
   ]
  },
  {
   "cell_type": "code",
   "execution_count": 10,
   "id": "4dbc1323",
   "metadata": {
    "execution": {
     "iopub.execute_input": "2023-09-20T08:01:15.539978Z",
     "iopub.status.busy": "2023-09-20T08:01:15.539096Z",
     "iopub.status.idle": "2023-09-20T08:01:15.544292Z",
     "shell.execute_reply": "2023-09-20T08:01:15.543329Z"
    },
    "papermill": {
     "duration": 0.025155,
     "end_time": "2023-09-20T08:01:15.546683",
     "exception": false,
     "start_time": "2023-09-20T08:01:15.521528",
     "status": "completed"
    },
    "tags": []
   },
   "outputs": [],
   "source": [
    "validation = int(np.floor(0.60 * split))  # validation"
   ]
  },
  {
   "cell_type": "code",
   "execution_count": 11,
   "id": "75606805",
   "metadata": {
    "execution": {
     "iopub.execute_input": "2023-09-20T08:01:15.581570Z",
     "iopub.status.busy": "2023-09-20T08:01:15.581284Z",
     "iopub.status.idle": "2023-09-20T08:01:15.586380Z",
     "shell.execute_reply": "2023-09-20T08:01:15.585443Z"
    },
    "papermill": {
     "duration": 0.02529,
     "end_time": "2023-09-20T08:01:15.588876",
     "exception": false,
     "start_time": "2023-09-20T08:01:15.563586",
     "status": "completed"
    },
    "tags": []
   },
   "outputs": [
    {
     "name": "stdout",
     "output_type": "stream",
     "text": [
      "0 1585 2643 3777\n"
     ]
    }
   ],
   "source": [
    "print(0, validation, split, len(dataset))"
   ]
  },
  {
   "cell_type": "code",
   "execution_count": 12,
   "id": "0d6aafaa",
   "metadata": {
    "execution": {
     "iopub.execute_input": "2023-09-20T08:01:15.623460Z",
     "iopub.status.busy": "2023-09-20T08:01:15.622551Z",
     "iopub.status.idle": "2023-09-20T08:01:15.628958Z",
     "shell.execute_reply": "2023-09-20T08:01:15.627536Z"
    },
    "papermill": {
     "duration": 0.025941,
     "end_time": "2023-09-20T08:01:15.631071",
     "exception": false,
     "start_time": "2023-09-20T08:01:15.605130",
     "status": "completed"
    },
    "tags": []
   },
   "outputs": [
    {
     "name": "stdout",
     "output_type": "stream",
     "text": [
      "length of train size :1585\n",
      "length of validation size :1058\n",
      "length of test size :2192\n"
     ]
    }
   ],
   "source": [
    "print(f\"length of train size :{validation}\")\n",
    "print(f\"length of validation size :{split - validation}\")\n",
    "print(f\"length of test size :{len(dataset)-validation}\")"
   ]
  },
  {
   "cell_type": "code",
   "execution_count": 13,
   "id": "cf67aa74",
   "metadata": {
    "execution": {
     "iopub.execute_input": "2023-09-20T08:01:15.665893Z",
     "iopub.status.busy": "2023-09-20T08:01:15.664946Z",
     "iopub.status.idle": "2023-09-20T08:01:15.670252Z",
     "shell.execute_reply": "2023-09-20T08:01:15.669376Z"
    },
    "papermill": {
     "duration": 0.024818,
     "end_time": "2023-09-20T08:01:15.672452",
     "exception": false,
     "start_time": "2023-09-20T08:01:15.647634",
     "status": "completed"
    },
    "tags": []
   },
   "outputs": [],
   "source": [
    "np.random.shuffle(indices)"
   ]
  },
  {
   "cell_type": "markdown",
   "id": "ffb28abf",
   "metadata": {
    "papermill": {
     "duration": 0.016464,
     "end_time": "2023-09-20T08:01:15.705693",
     "exception": false,
     "start_time": "2023-09-20T08:01:15.689229",
     "status": "completed"
    },
    "tags": []
   },
   "source": [
    "### Split into Train and Test"
   ]
  },
  {
   "cell_type": "code",
   "execution_count": 14,
   "id": "1912daf8",
   "metadata": {
    "execution": {
     "iopub.execute_input": "2023-09-20T08:01:15.740860Z",
     "iopub.status.busy": "2023-09-20T08:01:15.739927Z",
     "iopub.status.idle": "2023-09-20T08:01:15.745298Z",
     "shell.execute_reply": "2023-09-20T08:01:15.744346Z"
    },
    "papermill": {
     "duration": 0.02508,
     "end_time": "2023-09-20T08:01:15.747522",
     "exception": false,
     "start_time": "2023-09-20T08:01:15.722442",
     "status": "completed"
    },
    "tags": []
   },
   "outputs": [],
   "source": [
    "train_indices, validation_indices, test_indices = (\n",
    "    indices[:validation],\n",
    "    indices[validation:split],\n",
    "    indices[split:],\n",
    ")"
   ]
  },
  {
   "cell_type": "code",
   "execution_count": 15,
   "id": "6899f815",
   "metadata": {
    "execution": {
     "iopub.execute_input": "2023-09-20T08:01:15.782501Z",
     "iopub.status.busy": "2023-09-20T08:01:15.782173Z",
     "iopub.status.idle": "2023-09-20T08:01:15.787230Z",
     "shell.execute_reply": "2023-09-20T08:01:15.786056Z"
    },
    "papermill": {
     "duration": 0.025237,
     "end_time": "2023-09-20T08:01:15.789464",
     "exception": false,
     "start_time": "2023-09-20T08:01:15.764227",
     "status": "completed"
    },
    "tags": []
   },
   "outputs": [],
   "source": [
    "train_sampler = SubsetRandomSampler(train_indices)\n",
    "validation_sampler = SubsetRandomSampler(validation_indices)\n",
    "test_sampler = SubsetRandomSampler(test_indices)"
   ]
  },
  {
   "cell_type": "code",
   "execution_count": 16,
   "id": "a4dc22f2",
   "metadata": {
    "execution": {
     "iopub.execute_input": "2023-09-20T08:01:15.825361Z",
     "iopub.status.busy": "2023-09-20T08:01:15.824438Z",
     "iopub.status.idle": "2023-09-20T08:01:15.831233Z",
     "shell.execute_reply": "2023-09-20T08:01:15.830189Z"
    },
    "papermill": {
     "duration": 0.027128,
     "end_time": "2023-09-20T08:01:15.833402",
     "exception": false,
     "start_time": "2023-09-20T08:01:15.806274",
     "status": "completed"
    },
    "tags": []
   },
   "outputs": [
    {
     "data": {
      "text/plain": [
       "<torch.utils.data.sampler.SubsetRandomSampler at 0x7ca4b4fbb3d0>"
      ]
     },
     "execution_count": 16,
     "metadata": {},
     "output_type": "execute_result"
    }
   ],
   "source": [
    "train_sampler"
   ]
  },
  {
   "cell_type": "code",
   "execution_count": 17,
   "id": "af5f7631",
   "metadata": {
    "execution": {
     "iopub.execute_input": "2023-09-20T08:01:15.869598Z",
     "iopub.status.busy": "2023-09-20T08:01:15.868773Z",
     "iopub.status.idle": "2023-09-20T08:01:15.874043Z",
     "shell.execute_reply": "2023-09-20T08:01:15.873062Z"
    },
    "papermill": {
     "duration": 0.026052,
     "end_time": "2023-09-20T08:01:15.876443",
     "exception": false,
     "start_time": "2023-09-20T08:01:15.850391",
     "status": "completed"
    },
    "tags": []
   },
   "outputs": [
    {
     "name": "stdout",
     "output_type": "stream",
     "text": [
      "50\n"
     ]
    }
   ],
   "source": [
    "targets_size = len(dataset.class_to_idx)\n",
    "print(targets_size)"
   ]
  },
  {
   "cell_type": "code",
   "execution_count": 18,
   "id": "4d5aaf14",
   "metadata": {
    "execution": {
     "iopub.execute_input": "2023-09-20T08:01:15.912444Z",
     "iopub.status.busy": "2023-09-20T08:01:15.911782Z",
     "iopub.status.idle": "2023-09-20T08:01:15.918076Z",
     "shell.execute_reply": "2023-09-20T08:01:15.916856Z"
    },
    "papermill": {
     "duration": 0.027005,
     "end_time": "2023-09-20T08:01:15.920242",
     "exception": false,
     "start_time": "2023-09-20T08:01:15.893237",
     "status": "completed"
    },
    "tags": []
   },
   "outputs": [
    {
     "name": "stdout",
     "output_type": "stream",
     "text": [
      "[0, 1, 2, 3, 4, 5, 6, 7, 8, 9, 10, 11, 12, 13, 14, 15, 16, 17, 18, 19, 20, 21, 22, 23, 24, 25, 26, 27, 28, 29, 30, 31, 32, 33, 34, 35, 36, 37, 38, 39, 40, 41, 42, 43, 44, 45, 46, 47, 48, 49]\n"
     ]
    }
   ],
   "source": [
    "num_classes_list = list(dataset.class_to_idx.values())\n",
    "print(num_classes_list)"
   ]
  },
  {
   "cell_type": "markdown",
   "id": "47e3da7b",
   "metadata": {
    "papermill": {
     "duration": 0.017023,
     "end_time": "2023-09-20T08:01:15.954203",
     "exception": false,
     "start_time": "2023-09-20T08:01:15.937180",
     "status": "completed"
    },
    "tags": []
   },
   "source": [
    "### Model"
   ]
  },
  {
   "cell_type": "markdown",
   "id": "88517c03",
   "metadata": {
    "papermill": {
     "duration": 0.016456,
     "end_time": "2023-09-20T08:01:15.988463",
     "exception": false,
     "start_time": "2023-09-20T08:01:15.972007",
     "status": "completed"
    },
    "tags": []
   },
   "source": [
    "<b>Convolution Aithmetic Equation : </b>(W - F + 2P) / S + 1 <br>\n",
    "W = Input Size<br>\n",
    "F = Filter Size<br>\n",
    "P = Padding Size<br>\n",
    "S = Stride <br>"
   ]
  },
  {
   "cell_type": "markdown",
   "id": "5f2bad41",
   "metadata": {
    "papermill": {
     "duration": 0.016635,
     "end_time": "2023-09-20T08:01:16.021789",
     "exception": false,
     "start_time": "2023-09-20T08:01:16.005154",
     "status": "completed"
    },
    "tags": []
   },
   "source": [
    "### Transfer Learning"
   ]
  },
  {
   "cell_type": "code",
   "execution_count": 19,
   "id": "8f5c8452",
   "metadata": {
    "execution": {
     "iopub.execute_input": "2023-09-20T08:01:16.057527Z",
     "iopub.status.busy": "2023-09-20T08:01:16.056494Z",
     "iopub.status.idle": "2023-09-20T08:01:37.059431Z",
     "shell.execute_reply": "2023-09-20T08:01:37.058346Z"
    },
    "papermill": {
     "duration": 21.023714,
     "end_time": "2023-09-20T08:01:37.062316",
     "exception": false,
     "start_time": "2023-09-20T08:01:16.038602",
     "status": "completed"
    },
    "tags": []
   },
   "outputs": [
    {
     "name": "stderr",
     "output_type": "stream",
     "text": [
      "Downloading: \"https://download.pytorch.org/models/vgg16-397923af.pth\" to /root/.cache/torch/hub/checkpoints/vgg16-397923af.pth\n"
     ]
    },
    {
     "data": {
      "application/vnd.jupyter.widget-view+json": {
       "model_id": "5d5991ca75bd4bdcae0a9be14eb231bc",
       "version_major": 2,
       "version_minor": 0
      },
      "text/plain": [
       "  0%|          | 0.00/528M [00:00<?, ?B/s]"
      ]
     },
     "metadata": {},
     "output_type": "display_data"
    }
   ],
   "source": [
    "model = models.vgg16(pretrained=True)"
   ]
  },
  {
   "cell_type": "code",
   "execution_count": 20,
   "id": "cd367bc6",
   "metadata": {
    "execution": {
     "iopub.execute_input": "2023-09-20T08:01:37.098079Z",
     "iopub.status.busy": "2023-09-20T08:01:37.097712Z",
     "iopub.status.idle": "2023-09-20T08:01:37.689453Z",
     "shell.execute_reply": "2023-09-20T08:01:37.688402Z"
    },
    "papermill": {
     "duration": 0.612355,
     "end_time": "2023-09-20T08:01:37.691985",
     "exception": false,
     "start_time": "2023-09-20T08:01:37.079630",
     "status": "completed"
    },
    "tags": []
   },
   "outputs": [
    {
     "name": "stderr",
     "output_type": "stream",
     "text": [
      "Downloading: \"https://download.pytorch.org/models/mobilenet_v2-b0353104.pth\" to /root/.cache/torch/hub/checkpoints/mobilenet_v2-b0353104.pth\n"
     ]
    },
    {
     "data": {
      "application/vnd.jupyter.widget-view+json": {
       "model_id": "5fa7a02e34a2472e81f2dac929f73f8e",
       "version_major": 2,
       "version_minor": 0
      },
      "text/plain": [
       "  0%|          | 0.00/13.6M [00:00<?, ?B/s]"
      ]
     },
     "metadata": {},
     "output_type": "display_data"
    }
   ],
   "source": [
    "model2=models.mobilenet_v2(pretrained=True)"
   ]
  },
  {
   "cell_type": "code",
   "execution_count": 21,
   "id": "ffe32d6f",
   "metadata": {
    "execution": {
     "iopub.execute_input": "2023-09-20T08:01:37.729252Z",
     "iopub.status.busy": "2023-09-20T08:01:37.728914Z",
     "iopub.status.idle": "2023-09-20T08:01:38.560467Z",
     "shell.execute_reply": "2023-09-20T08:01:38.559401Z"
    },
    "papermill": {
     "duration": 0.852654,
     "end_time": "2023-09-20T08:01:38.563242",
     "exception": false,
     "start_time": "2023-09-20T08:01:37.710588",
     "status": "completed"
    },
    "tags": []
   },
   "outputs": [
    {
     "name": "stderr",
     "output_type": "stream",
     "text": [
      "Downloading: \"https://download.pytorch.org/models/resnet18-f37072fd.pth\" to /root/.cache/torch/hub/checkpoints/resnet18-f37072fd.pth\n"
     ]
    },
    {
     "data": {
      "application/vnd.jupyter.widget-view+json": {
       "model_id": "8a6e568309a04de8936cc3d0225c757c",
       "version_major": 2,
       "version_minor": 0
      },
      "text/plain": [
       "  0%|          | 0.00/44.7M [00:00<?, ?B/s]"
      ]
     },
     "metadata": {},
     "output_type": "display_data"
    }
   ],
   "source": [
    "model3=models.resnet18(pretrained=True)"
   ]
  },
  {
   "cell_type": "code",
   "execution_count": 22,
   "id": "1f3c837f",
   "metadata": {
    "execution": {
     "iopub.execute_input": "2023-09-20T08:01:38.600779Z",
     "iopub.status.busy": "2023-09-20T08:01:38.599813Z",
     "iopub.status.idle": "2023-09-20T08:01:38.605362Z",
     "shell.execute_reply": "2023-09-20T08:01:38.604485Z"
    },
    "papermill": {
     "duration": 0.026086,
     "end_time": "2023-09-20T08:01:38.607466",
     "exception": false,
     "start_time": "2023-09-20T08:01:38.581380",
     "status": "completed"
    },
    "tags": []
   },
   "outputs": [],
   "source": [
    "for params in model3.parameters():\n",
    "   params.requires_grad = True"
   ]
  },
  {
   "cell_type": "code",
   "execution_count": 23,
   "id": "1fe06b77",
   "metadata": {
    "execution": {
     "iopub.execute_input": "2023-09-20T08:01:38.644101Z",
     "iopub.status.busy": "2023-09-20T08:01:38.643296Z",
     "iopub.status.idle": "2023-09-20T08:01:38.650856Z",
     "shell.execute_reply": "2023-09-20T08:01:38.649899Z"
    },
    "papermill": {
     "duration": 0.028248,
     "end_time": "2023-09-20T08:01:38.653102",
     "exception": false,
     "start_time": "2023-09-20T08:01:38.624854",
     "status": "completed"
    },
    "tags": []
   },
   "outputs": [
    {
     "data": {
      "text/plain": [
       "ResNet(\n",
       "  (conv1): Conv2d(3, 64, kernel_size=(7, 7), stride=(2, 2), padding=(3, 3), bias=False)\n",
       "  (bn1): BatchNorm2d(64, eps=1e-05, momentum=0.1, affine=True, track_running_stats=True)\n",
       "  (relu): ReLU(inplace=True)\n",
       "  (maxpool): MaxPool2d(kernel_size=3, stride=2, padding=1, dilation=1, ceil_mode=False)\n",
       "  (layer1): Sequential(\n",
       "    (0): BasicBlock(\n",
       "      (conv1): Conv2d(64, 64, kernel_size=(3, 3), stride=(1, 1), padding=(1, 1), bias=False)\n",
       "      (bn1): BatchNorm2d(64, eps=1e-05, momentum=0.1, affine=True, track_running_stats=True)\n",
       "      (relu): ReLU(inplace=True)\n",
       "      (conv2): Conv2d(64, 64, kernel_size=(3, 3), stride=(1, 1), padding=(1, 1), bias=False)\n",
       "      (bn2): BatchNorm2d(64, eps=1e-05, momentum=0.1, affine=True, track_running_stats=True)\n",
       "    )\n",
       "    (1): BasicBlock(\n",
       "      (conv1): Conv2d(64, 64, kernel_size=(3, 3), stride=(1, 1), padding=(1, 1), bias=False)\n",
       "      (bn1): BatchNorm2d(64, eps=1e-05, momentum=0.1, affine=True, track_running_stats=True)\n",
       "      (relu): ReLU(inplace=True)\n",
       "      (conv2): Conv2d(64, 64, kernel_size=(3, 3), stride=(1, 1), padding=(1, 1), bias=False)\n",
       "      (bn2): BatchNorm2d(64, eps=1e-05, momentum=0.1, affine=True, track_running_stats=True)\n",
       "    )\n",
       "  )\n",
       "  (layer2): Sequential(\n",
       "    (0): BasicBlock(\n",
       "      (conv1): Conv2d(64, 128, kernel_size=(3, 3), stride=(2, 2), padding=(1, 1), bias=False)\n",
       "      (bn1): BatchNorm2d(128, eps=1e-05, momentum=0.1, affine=True, track_running_stats=True)\n",
       "      (relu): ReLU(inplace=True)\n",
       "      (conv2): Conv2d(128, 128, kernel_size=(3, 3), stride=(1, 1), padding=(1, 1), bias=False)\n",
       "      (bn2): BatchNorm2d(128, eps=1e-05, momentum=0.1, affine=True, track_running_stats=True)\n",
       "      (downsample): Sequential(\n",
       "        (0): Conv2d(64, 128, kernel_size=(1, 1), stride=(2, 2), bias=False)\n",
       "        (1): BatchNorm2d(128, eps=1e-05, momentum=0.1, affine=True, track_running_stats=True)\n",
       "      )\n",
       "    )\n",
       "    (1): BasicBlock(\n",
       "      (conv1): Conv2d(128, 128, kernel_size=(3, 3), stride=(1, 1), padding=(1, 1), bias=False)\n",
       "      (bn1): BatchNorm2d(128, eps=1e-05, momentum=0.1, affine=True, track_running_stats=True)\n",
       "      (relu): ReLU(inplace=True)\n",
       "      (conv2): Conv2d(128, 128, kernel_size=(3, 3), stride=(1, 1), padding=(1, 1), bias=False)\n",
       "      (bn2): BatchNorm2d(128, eps=1e-05, momentum=0.1, affine=True, track_running_stats=True)\n",
       "    )\n",
       "  )\n",
       "  (layer3): Sequential(\n",
       "    (0): BasicBlock(\n",
       "      (conv1): Conv2d(128, 256, kernel_size=(3, 3), stride=(2, 2), padding=(1, 1), bias=False)\n",
       "      (bn1): BatchNorm2d(256, eps=1e-05, momentum=0.1, affine=True, track_running_stats=True)\n",
       "      (relu): ReLU(inplace=True)\n",
       "      (conv2): Conv2d(256, 256, kernel_size=(3, 3), stride=(1, 1), padding=(1, 1), bias=False)\n",
       "      (bn2): BatchNorm2d(256, eps=1e-05, momentum=0.1, affine=True, track_running_stats=True)\n",
       "      (downsample): Sequential(\n",
       "        (0): Conv2d(128, 256, kernel_size=(1, 1), stride=(2, 2), bias=False)\n",
       "        (1): BatchNorm2d(256, eps=1e-05, momentum=0.1, affine=True, track_running_stats=True)\n",
       "      )\n",
       "    )\n",
       "    (1): BasicBlock(\n",
       "      (conv1): Conv2d(256, 256, kernel_size=(3, 3), stride=(1, 1), padding=(1, 1), bias=False)\n",
       "      (bn1): BatchNorm2d(256, eps=1e-05, momentum=0.1, affine=True, track_running_stats=True)\n",
       "      (relu): ReLU(inplace=True)\n",
       "      (conv2): Conv2d(256, 256, kernel_size=(3, 3), stride=(1, 1), padding=(1, 1), bias=False)\n",
       "      (bn2): BatchNorm2d(256, eps=1e-05, momentum=0.1, affine=True, track_running_stats=True)\n",
       "    )\n",
       "  )\n",
       "  (layer4): Sequential(\n",
       "    (0): BasicBlock(\n",
       "      (conv1): Conv2d(256, 512, kernel_size=(3, 3), stride=(2, 2), padding=(1, 1), bias=False)\n",
       "      (bn1): BatchNorm2d(512, eps=1e-05, momentum=0.1, affine=True, track_running_stats=True)\n",
       "      (relu): ReLU(inplace=True)\n",
       "      (conv2): Conv2d(512, 512, kernel_size=(3, 3), stride=(1, 1), padding=(1, 1), bias=False)\n",
       "      (bn2): BatchNorm2d(512, eps=1e-05, momentum=0.1, affine=True, track_running_stats=True)\n",
       "      (downsample): Sequential(\n",
       "        (0): Conv2d(256, 512, kernel_size=(1, 1), stride=(2, 2), bias=False)\n",
       "        (1): BatchNorm2d(512, eps=1e-05, momentum=0.1, affine=True, track_running_stats=True)\n",
       "      )\n",
       "    )\n",
       "    (1): BasicBlock(\n",
       "      (conv1): Conv2d(512, 512, kernel_size=(3, 3), stride=(1, 1), padding=(1, 1), bias=False)\n",
       "      (bn1): BatchNorm2d(512, eps=1e-05, momentum=0.1, affine=True, track_running_stats=True)\n",
       "      (relu): ReLU(inplace=True)\n",
       "      (conv2): Conv2d(512, 512, kernel_size=(3, 3), stride=(1, 1), padding=(1, 1), bias=False)\n",
       "      (bn2): BatchNorm2d(512, eps=1e-05, momentum=0.1, affine=True, track_running_stats=True)\n",
       "    )\n",
       "  )\n",
       "  (avgpool): AdaptiveAvgPool2d(output_size=(1, 1))\n",
       "  (fc): Linear(in_features=512, out_features=1000, bias=True)\n",
       ")"
      ]
     },
     "execution_count": 23,
     "metadata": {},
     "output_type": "execute_result"
    }
   ],
   "source": [
    "model3"
   ]
  },
  {
   "cell_type": "code",
   "execution_count": 24,
   "id": "81f1ef76",
   "metadata": {
    "execution": {
     "iopub.execute_input": "2023-09-20T08:01:38.690355Z",
     "iopub.status.busy": "2023-09-20T08:01:38.689445Z",
     "iopub.status.idle": "2023-09-20T08:01:38.817644Z",
     "shell.execute_reply": "2023-09-20T08:01:38.816080Z"
    },
    "papermill": {
     "duration": 0.148978,
     "end_time": "2023-09-20T08:01:38.819770",
     "exception": true,
     "start_time": "2023-09-20T08:01:38.670792",
     "status": "failed"
    },
    "tags": []
   },
   "outputs": [
    {
     "ename": "AttributeError",
     "evalue": "'ResNet' object has no attribute 'classifier'",
     "output_type": "error",
     "traceback": [
      "\u001b[0;31m---------------------------------------------------------------------------\u001b[0m",
      "\u001b[0;31mAttributeError\u001b[0m                            Traceback (most recent call last)",
      "\u001b[0;32m/tmp/ipykernel_23/2078354662.py\u001b[0m in \u001b[0;36m<module>\u001b[0;34m\u001b[0m\n\u001b[0;32m----> 1\u001b[0;31m \u001b[0mn_features\u001b[0m \u001b[0;34m=\u001b[0m \u001b[0mmodel3\u001b[0m\u001b[0;34m.\u001b[0m\u001b[0mclassifier\u001b[0m\u001b[0;34m[\u001b[0m\u001b[0;36m0\u001b[0m\u001b[0;34m]\u001b[0m\u001b[0;34m.\u001b[0m\u001b[0min_features\u001b[0m\u001b[0;34m\u001b[0m\u001b[0;34m\u001b[0m\u001b[0m\n\u001b[0m\u001b[1;32m      2\u001b[0m \u001b[0mn_features\u001b[0m\u001b[0;34m\u001b[0m\u001b[0;34m\u001b[0m\u001b[0m\n",
      "\u001b[0;32m/opt/conda/lib/python3.7/site-packages/torch/nn/modules/module.py\u001b[0m in \u001b[0;36m__getattr__\u001b[0;34m(self, name)\u001b[0m\n\u001b[1;32m   1184\u001b[0m                 \u001b[0;32mreturn\u001b[0m \u001b[0mmodules\u001b[0m\u001b[0;34m[\u001b[0m\u001b[0mname\u001b[0m\u001b[0;34m]\u001b[0m\u001b[0;34m\u001b[0m\u001b[0;34m\u001b[0m\u001b[0m\n\u001b[1;32m   1185\u001b[0m         raise AttributeError(\"'{}' object has no attribute '{}'\".format(\n\u001b[0;32m-> 1186\u001b[0;31m             type(self).__name__, name))\n\u001b[0m\u001b[1;32m   1187\u001b[0m \u001b[0;34m\u001b[0m\u001b[0m\n\u001b[1;32m   1188\u001b[0m     \u001b[0;32mdef\u001b[0m \u001b[0m__setattr__\u001b[0m\u001b[0;34m(\u001b[0m\u001b[0mself\u001b[0m\u001b[0;34m,\u001b[0m \u001b[0mname\u001b[0m\u001b[0;34m:\u001b[0m \u001b[0mstr\u001b[0m\u001b[0;34m,\u001b[0m \u001b[0mvalue\u001b[0m\u001b[0;34m:\u001b[0m \u001b[0mUnion\u001b[0m\u001b[0;34m[\u001b[0m\u001b[0mTensor\u001b[0m\u001b[0;34m,\u001b[0m \u001b[0;34m'Module'\u001b[0m\u001b[0;34m]\u001b[0m\u001b[0;34m)\u001b[0m \u001b[0;34m->\u001b[0m \u001b[0;32mNone\u001b[0m\u001b[0;34m:\u001b[0m\u001b[0;34m\u001b[0m\u001b[0;34m\u001b[0m\u001b[0m\n",
      "\u001b[0;31mAttributeError\u001b[0m: 'ResNet' object has no attribute 'classifier'"
     ]
    }
   ],
   "source": [
    "n_features = model3.classifier[0].in_features\n",
    "n_features"
   ]
  },
  {
   "cell_type": "code",
   "execution_count": null,
   "id": "25694e0a",
   "metadata": {
    "papermill": {
     "duration": null,
     "end_time": null,
     "exception": null,
     "start_time": null,
     "status": "pending"
    },
    "tags": []
   },
   "outputs": [],
   "source": [
    "n_features = model2.classifier[1].in_features #mobilenet case\n",
    "n_features"
   ]
  },
  {
   "cell_type": "code",
   "execution_count": null,
   "id": "a16f7784",
   "metadata": {
    "execution": {
     "iopub.execute_input": "2023-09-20T07:34:02.441386Z",
     "iopub.status.busy": "2023-09-20T07:34:02.441005Z",
     "iopub.status.idle": "2023-09-20T07:34:02.448315Z",
     "shell.execute_reply": "2023-09-20T07:34:02.447375Z",
     "shell.execute_reply.started": "2023-09-20T07:34:02.441353Z"
    },
    "papermill": {
     "duration": null,
     "end_time": null,
     "exception": null,
     "start_time": null,
     "status": "pending"
    },
    "tags": []
   },
   "outputs": [],
   "source": [
    "n_features = model3.conv1.in_channels #resnet18\n",
    "n_features"
   ]
  },
  {
   "cell_type": "code",
   "execution_count": null,
   "id": "f86d64f3",
   "metadata": {
    "execution": {
     "iopub.execute_input": "2023-09-20T07:34:25.207433Z",
     "iopub.status.busy": "2023-09-20T07:34:25.206967Z",
     "iopub.status.idle": "2023-09-20T07:34:25.221623Z",
     "shell.execute_reply": "2023-09-20T07:34:25.220497Z",
     "shell.execute_reply.started": "2023-09-20T07:34:25.207392Z"
    },
    "papermill": {
     "duration": null,
     "end_time": null,
     "exception": null,
     "start_time": null,
     "status": "pending"
    },
    "tags": []
   },
   "outputs": [],
   "source": [
    "model3.classifier = nn.Sequential(\n",
    "     nn.Linear(n_features, 1024),\n",
    "     nn.ReLU(),\n",
    "     nn.Dropout(0.4),\n",
    "     nn.Linear(1024, targets_size),\n",
    " )"
   ]
  },
  {
   "cell_type": "markdown",
   "id": "f8ae98e6",
   "metadata": {
    "papermill": {
     "duration": null,
     "end_time": null,
     "exception": null,
     "start_time": null,
     "status": "pending"
    },
    "tags": []
   },
   "source": [
    "### Original Modeling"
   ]
  },
  {
   "cell_type": "code",
   "execution_count": null,
   "id": "8d1ac93e",
   "metadata": {
    "execution": {
     "iopub.execute_input": "2023-09-20T07:34:28.266415Z",
     "iopub.status.busy": "2023-09-20T07:34:28.265969Z",
     "iopub.status.idle": "2023-09-20T07:34:28.348905Z",
     "shell.execute_reply": "2023-09-20T07:34:28.347627Z",
     "shell.execute_reply.started": "2023-09-20T07:34:28.266377Z"
    },
    "papermill": {
     "duration": null,
     "end_time": null,
     "exception": null,
     "start_time": null,
     "status": "pending"
    },
    "tags": []
   },
   "outputs": [],
   "source": [
    "device = torch.device(\"cuda\" if torch.cuda.is_available() else \"cpu\")\n",
    "print(device)"
   ]
  },
  {
   "cell_type": "code",
   "execution_count": null,
   "id": "df254a11",
   "metadata": {
    "execution": {
     "iopub.execute_input": "2023-09-20T07:34:33.751556Z",
     "iopub.status.busy": "2023-09-20T07:34:33.750565Z",
     "iopub.status.idle": "2023-09-20T07:34:36.912771Z",
     "shell.execute_reply": "2023-09-20T07:34:36.911615Z",
     "shell.execute_reply.started": "2023-09-20T07:34:33.751503Z"
    },
    "papermill": {
     "duration": null,
     "end_time": null,
     "exception": null,
     "start_time": null,
     "status": "pending"
    },
    "tags": []
   },
   "outputs": [],
   "source": [
    "model3.to(device)"
   ]
  },
  {
   "cell_type": "code",
   "execution_count": null,
   "id": "8ae22914",
   "metadata": {
    "execution": {
     "iopub.execute_input": "2023-09-20T07:34:52.511056Z",
     "iopub.status.busy": "2023-09-20T07:34:52.510575Z",
     "iopub.status.idle": "2023-09-20T07:35:06.025330Z",
     "shell.execute_reply": "2023-09-20T07:35:06.024013Z",
     "shell.execute_reply.started": "2023-09-20T07:34:52.511015Z"
    },
    "papermill": {
     "duration": null,
     "end_time": null,
     "exception": null,
     "start_time": null,
     "status": "pending"
    },
    "tags": []
   },
   "outputs": [],
   "source": [
    "pip install torchsummary"
   ]
  },
  {
   "cell_type": "code",
   "execution_count": null,
   "id": "2cd4672d",
   "metadata": {
    "execution": {
     "iopub.execute_input": "2023-09-20T07:35:20.666583Z",
     "iopub.status.busy": "2023-09-20T07:35:20.666209Z",
     "iopub.status.idle": "2023-09-20T07:35:27.066847Z",
     "shell.execute_reply": "2023-09-20T07:35:27.065623Z",
     "shell.execute_reply.started": "2023-09-20T07:35:20.666549Z"
    },
    "papermill": {
     "duration": null,
     "end_time": null,
     "exception": null,
     "start_time": null,
     "status": "pending"
    },
    "tags": []
   },
   "outputs": [],
   "source": [
    "from torchsummary import summary\n",
    "summary(model3, (3, 299, 299))"
   ]
  },
  {
   "cell_type": "code",
   "execution_count": null,
   "id": "a1f32d5e",
   "metadata": {
    "execution": {
     "iopub.execute_input": "2023-09-20T07:35:36.827495Z",
     "iopub.status.busy": "2023-09-20T07:35:36.826918Z",
     "iopub.status.idle": "2023-09-20T07:35:36.838072Z",
     "shell.execute_reply": "2023-09-20T07:35:36.836854Z",
     "shell.execute_reply.started": "2023-09-20T07:35:36.827449Z"
    },
    "papermill": {
     "duration": null,
     "end_time": null,
     "exception": null,
     "start_time": null,
     "status": "pending"
    },
    "tags": []
   },
   "outputs": [],
   "source": [
    "criterion = nn.CrossEntropyLoss()  # this include softmax + cross entropy loss\n",
    "optimizer = torch.optim.Adam(model3.parameters())"
   ]
  },
  {
   "cell_type": "markdown",
   "id": "07201a78",
   "metadata": {
    "papermill": {
     "duration": null,
     "end_time": null,
     "exception": null,
     "start_time": null,
     "status": "pending"
    },
    "tags": []
   },
   "source": [
    "### Batch Gradient Descent"
   ]
  },
  {
   "cell_type": "code",
   "execution_count": 1,
   "id": "d9a29b2c",
   "metadata": {
    "execution": {
     "iopub.execute_input": "2023-09-20T07:38:04.827297Z",
     "iopub.status.busy": "2023-09-20T07:38:04.826856Z",
     "iopub.status.idle": "2023-09-20T07:38:04.840335Z",
     "shell.execute_reply": "2023-09-20T07:38:04.839097Z",
     "shell.execute_reply.started": "2023-09-20T07:38:04.827261Z"
    },
    "papermill": {
     "duration": null,
     "end_time": null,
     "exception": null,
     "start_time": null,
     "status": "pending"
    },
    "tags": []
   },
   "outputs": [],
   "source": [
    "def batch_gd(model, criterion, train_loader, test_laoder, epochs):\n",
    "    train_losses = np.zeros(epochs)\n",
    "    test_losses = np.zeros(epochs)\n",
    "\n",
    "    for e in range(epochs):\n",
    "\n",
    "        t0 = datetime.now()\n",
    "        train_loss = []\n",
    "        for inputs, targets in train_loader:\n",
    "           \n",
    "            inputs, targets = inputs.to(device), targets.to(device)\n",
    "            optimizer.zero_grad()\n",
    "            output = model(inputs)\n",
    "            loss = criterion(output, targets)\n",
    "            train_loss.append(loss.item())  # torch to numpy world\n",
    "            loss.backward()\n",
    "            optimizer.step()\n",
    "\n",
    "        train_loss = np.mean(train_loss)\n",
    "\n",
    "        validation_loss = []\n",
    "\n",
    "        for inputs, targets in validation_loader:\n",
    "            \n",
    "            inputs, targets = inputs.to(device), targets.to(device)\n",
    "\n",
    "            output = model(inputs)\n",
    "\n",
    "            loss = criterion(output, targets)\n",
    "\n",
    "            validation_loss.append(loss.item())  # torch to numpy world\n",
    "\n",
    "        validation_loss = np.mean(validation_loss)\n",
    "\n",
    "        train_losses[e] = train_loss\n",
    "\n",
    "        dt = datetime.now() - t0\n",
    "\n",
    "        print(f\"Epoch : {e+1}/{epochs} Train_loss:{train_loss:.3f} Duration:{dt}\")\n",
    "\n",
    "    return train_losses"
   ]
  },
  {
   "cell_type": "code",
   "execution_count": null,
   "id": "8e6ad8c9",
   "metadata": {
    "execution": {
     "iopub.execute_input": "2023-09-20T07:38:09.466968Z",
     "iopub.status.busy": "2023-09-20T07:38:09.466537Z",
     "iopub.status.idle": "2023-09-20T07:38:09.474771Z",
     "shell.execute_reply": "2023-09-20T07:38:09.473685Z",
     "shell.execute_reply.started": "2023-09-20T07:38:09.466934Z"
    },
    "papermill": {
     "duration": null,
     "end_time": null,
     "exception": null,
     "start_time": null,
     "status": "pending"
    },
    "tags": []
   },
   "outputs": [],
   "source": [
    "batch_size = 64\n",
    "train_loader = torch.utils.data.DataLoader(\n",
    "    dataset, batch_size=batch_size, sampler=train_sampler\n",
    ")\n",
    "test_loader = torch.utils.data.DataLoader(\n",
    "    dataset, batch_size=batch_size, sampler=test_sampler\n",
    ")\n",
    "validation_loader = torch.utils.data.DataLoader(\n",
    "    dataset, batch_size=batch_size, sampler=validation_sampler\n",
    ")"
   ]
  },
  {
   "cell_type": "code",
   "execution_count": null,
   "id": "96f376f8",
   "metadata": {
    "execution": {
     "iopub.execute_input": "2023-09-20T07:58:12.932105Z",
     "iopub.status.busy": "2023-09-20T07:58:12.931695Z",
     "iopub.status.idle": "2023-09-20T07:58:12.944333Z",
     "shell.execute_reply": "2023-09-20T07:58:12.943293Z",
     "shell.execute_reply.started": "2023-09-20T07:58:12.932066Z"
    },
    "papermill": {
     "duration": null,
     "end_time": null,
     "exception": null,
     "start_time": null,
     "status": "pending"
    },
    "tags": []
   },
   "outputs": [],
   "source": [
    "data_transforms = {\n",
    "    'train_loader': transforms.Compose([\n",
    "        transforms.RandomAffine(degrees=10, translate=(0.05, 0.05), shear=5),\n",
    "        transforms.ColorJitter(hue=0.05, saturation=0.05),\n",
    "        transforms.RandomHorizontalFlip(),\n",
    "        transforms.Grayscale(num_output_channels=1),\n",
    "         transforms.RandomApply([transforms.GaussianBlur(kernel_size=7)], p=0.2),\n",
    "        transforms.ToTensor(),\n",
    "        transforms.Normalize((0.5,), (0.5,)),\n",
    "    ]),\n",
    "    'validation_loader': transforms.Compose([\n",
    "        transforms.ToTensor(),\n",
    "        transforms.Normalize((0.5,), (0.5,)),\n",
    "    ])\n",
    "}"
   ]
  },
  {
   "cell_type": "code",
   "execution_count": 2,
   "id": "46ae893c",
   "metadata": {
    "papermill": {
     "duration": null,
     "end_time": null,
     "exception": null,
     "start_time": null,
     "status": "pending"
    },
    "tags": []
   },
   "outputs": [
    {
     "ename": "NameError",
     "evalue": "name 'model3' is not defined",
     "output_type": "error",
     "traceback": [
      "\u001b[1;31m---------------------------------------------------------------------------\u001b[0m",
      "\u001b[1;31mNameError\u001b[0m                                 Traceback (most recent call last)",
      "Cell \u001b[1;32mIn[2], line 1\u001b[0m\n\u001b[1;32m----> 1\u001b[0m train_losses \u001b[38;5;241m=\u001b[39m batch_gd(\u001b[43mmodel3\u001b[49m, criterion, train_loader, validation_loader, \u001b[38;5;241m10\u001b[39m)\n",
      "\u001b[1;31mNameError\u001b[0m: name 'model3' is not defined"
     ]
    }
   ],
   "source": [
    "train_losses = batch_gd(model3, criterion, train_loader, validation_loader, 10)"
   ]
  },
  {
   "cell_type": "code",
   "execution_count": null,
   "id": "2cb4cd66",
   "metadata": {
    "execution": {
     "iopub.execute_input": "2023-09-19T19:17:46.286564Z",
     "iopub.status.busy": "2023-09-19T19:17:46.286093Z",
     "iopub.status.idle": "2023-09-19T19:17:48.649559Z",
     "shell.execute_reply": "2023-09-19T19:17:48.648554Z",
     "shell.execute_reply.started": "2023-09-19T19:17:46.286526Z"
    },
    "papermill": {
     "duration": null,
     "end_time": null,
     "exception": null,
     "start_time": null,
     "status": "pending"
    },
    "tags": []
   },
   "outputs": [],
   "source": [
    "import torch\n",
    "from torchvision import transforms\n",
    "import matplotlib.pyplot as plt\n",
    "data_iterator = iter(train_loader)\n",
    "images, labels = next(data_iterator)\n",
    "\n",
    "inverse_transform = transforms.Compose([\n",
    "    transforms.Normalize(mean=[0, 0, 0], std=[1/0.5, 1/0.5, 1/0.5]),\n",
    "    transforms.ToPILImage()  \n",
    "\n",
    "image_to_show = inverse_transform(images[0]).convert(\"RGB\")\n",
    "\n",
    "plt.imshow(image_to_show)\n",
    "plt.title(f\"Label: {labels[4]}\")  \n",
    "plt.axis(\"off\")  \n",
    "plt.show()"
   ]
  },
  {
   "cell_type": "markdown",
   "id": "fb952ef6",
   "metadata": {
    "papermill": {
     "duration": null,
     "end_time": null,
     "exception": null,
     "start_time": null,
     "status": "pending"
    },
    "tags": []
   },
   "source": [
    "### Save the Model"
   ]
  },
  {
   "cell_type": "markdown",
   "id": "db2b2ddf",
   "metadata": {
    "papermill": {
     "duration": null,
     "end_time": null,
     "exception": null,
     "start_time": null,
     "status": "pending"
    },
    "tags": []
   },
   "source": [
    "### Load Model"
   ]
  },
  {
   "cell_type": "code",
   "execution_count": null,
   "id": "3696fded",
   "metadata": {
    "execution": {
     "iopub.execute_input": "2023-01-06T07:06:52.142568Z",
     "iopub.status.busy": "2023-01-06T07:06:52.141635Z",
     "iopub.status.idle": "2023-01-06T07:06:52.149538Z",
     "shell.execute_reply": "2023-01-06T07:06:52.148553Z",
     "shell.execute_reply.started": "2023-01-06T07:06:52.142521Z"
    },
    "papermill": {
     "duration": null,
     "end_time": null,
     "exception": null,
     "start_time": null,
     "status": "pending"
    },
    "tags": []
   },
   "outputs": [],
   "source": [
    "# %matplotlib notebook"
   ]
  },
  {
   "cell_type": "markdown",
   "id": "27b02714",
   "metadata": {
    "papermill": {
     "duration": null,
     "end_time": null,
     "exception": null,
     "start_time": null,
     "status": "pending"
    },
    "tags": []
   },
   "source": [
    "### Plot the loss"
   ]
  },
  {
   "cell_type": "code",
   "execution_count": null,
   "id": "13b26ce3",
   "metadata": {
    "execution": {
     "iopub.execute_input": "2023-09-20T07:53:35.850845Z",
     "iopub.status.busy": "2023-09-20T07:53:35.850350Z",
     "iopub.status.idle": "2023-09-20T07:53:36.074630Z",
     "shell.execute_reply": "2023-09-20T07:53:36.073577Z",
     "shell.execute_reply.started": "2023-09-20T07:53:35.850802Z"
    },
    "papermill": {
     "duration": null,
     "end_time": null,
     "exception": null,
     "start_time": null,
     "status": "pending"
    },
    "tags": []
   },
   "outputs": [],
   "source": [
    "plt.plot(train_losses , label = 'train_loss')\n",
    "plt.xlabel('No of Epochs')\n",
    "plt.ylabel('Loss')\n",
    "plt.legend()\n",
    "plt.show()"
   ]
  },
  {
   "cell_type": "markdown",
   "id": "1dbfed27",
   "metadata": {
    "papermill": {
     "duration": null,
     "end_time": null,
     "exception": null,
     "start_time": null,
     "status": "pending"
    },
    "tags": []
   },
   "source": [
    "### Accuracy"
   ]
  },
  {
   "cell_type": "code",
   "execution_count": null,
   "id": "9878efca",
   "metadata": {
    "execution": {
     "iopub.execute_input": "2023-09-20T07:54:14.821033Z",
     "iopub.status.busy": "2023-09-20T07:54:14.820640Z",
     "iopub.status.idle": "2023-09-20T07:54:14.829732Z",
     "shell.execute_reply": "2023-09-20T07:54:14.828610Z",
     "shell.execute_reply.started": "2023-09-20T07:54:14.821000Z"
    },
    "papermill": {
     "duration": null,
     "end_time": null,
     "exception": null,
     "start_time": null,
     "status": "pending"
    },
    "tags": []
   },
   "outputs": [],
   "source": [
    "def accuracy(loader):\n",
    "    n_correct = 0\n",
    "    n_total = 0\n",
    "    model3.cuda()\n",
    "    for inputs, targets in loader:\n",
    "        inputs, targets = inputs.cuda(), targets.cuda()\n",
    "\n",
    "        outputs = model3(inputs)\n",
    "        \n",
    "        #print(outputs)\n",
    "\n",
    "        _, predictions = torch.max(outputs, 1)\n",
    "\n",
    "        n_correct += (predictions == targets).sum().item()\n",
    "        n_total += targets.shape[0]\n",
    "\n",
    "    acc = n_correct / n_total\n",
    "    return acc"
   ]
  },
  {
   "cell_type": "code",
   "execution_count": null,
   "id": "cb3109bf",
   "metadata": {
    "execution": {
     "iopub.execute_input": "2023-09-20T07:54:18.451057Z",
     "iopub.status.busy": "2023-09-20T07:54:18.450298Z",
     "iopub.status.idle": "2023-09-20T07:56:16.032190Z",
     "shell.execute_reply": "2023-09-20T07:56:16.031038Z",
     "shell.execute_reply.started": "2023-09-20T07:54:18.451010Z"
    },
    "papermill": {
     "duration": null,
     "end_time": null,
     "exception": null,
     "start_time": null,
     "status": "pending"
    },
    "tags": []
   },
   "outputs": [],
   "source": [
    "train_acc = accuracy(train_loader)\n",
    "test_acc = accuracy(test_loader)\n",
    "validation_acc = accuracy(validation_loader)"
   ]
  },
  {
   "cell_type": "code",
   "execution_count": null,
   "id": "93e85ab7",
   "metadata": {
    "execution": {
     "iopub.execute_input": "2023-09-20T07:56:32.716118Z",
     "iopub.status.busy": "2023-09-20T07:56:32.715676Z",
     "iopub.status.idle": "2023-09-20T07:56:32.722695Z",
     "shell.execute_reply": "2023-09-20T07:56:32.721274Z",
     "shell.execute_reply.started": "2023-09-20T07:56:32.716082Z"
    },
    "papermill": {
     "duration": null,
     "end_time": null,
     "exception": null,
     "start_time": null,
     "status": "pending"
    },
    "tags": []
   },
   "outputs": [],
   "source": [
    "print(\n",
    "    f\"Train Accuracy : {train_acc}\\nTest Accuracy : {test_acc}\\nValidation Accuracy : {validation_acc}\"\n",
    ")"
   ]
  },
  {
   "cell_type": "code",
   "execution_count": null,
   "id": "e768d240",
   "metadata": {
    "execution": {
     "iopub.execute_input": "2023-09-19T20:14:09.279390Z",
     "iopub.status.busy": "2023-09-19T20:14:09.278930Z",
     "iopub.status.idle": "2023-09-19T20:14:09.366686Z",
     "shell.execute_reply": "2023-09-19T20:14:09.365677Z",
     "shell.execute_reply.started": "2023-09-19T20:14:09.279340Z"
    },
    "papermill": {
     "duration": null,
     "end_time": null,
     "exception": null,
     "start_time": null,
     "status": "pending"
    },
    "tags": []
   },
   "outputs": [],
   "source": [
    "torch.save(model2, \"PlantMed2.pt\")"
   ]
  },
  {
   "cell_type": "code",
   "execution_count": null,
   "id": "112094ef",
   "metadata": {
    "execution": {
     "iopub.execute_input": "2023-09-19T20:14:19.713838Z",
     "iopub.status.busy": "2023-09-19T20:14:19.713065Z",
     "iopub.status.idle": "2023-09-19T20:14:19.806117Z",
     "shell.execute_reply": "2023-09-19T20:14:19.805007Z",
     "shell.execute_reply.started": "2023-09-19T20:14:19.713797Z"
    },
    "papermill": {
     "duration": null,
     "end_time": null,
     "exception": null,
     "start_time": null,
     "status": "pending"
    },
    "tags": []
   },
   "outputs": [],
   "source": [
    "device = torch.device(\"cuda\" if torch.cuda.is_available() else \"cpu\")\n",
    "loaded_model = torch.load(\"PlantMed2.pt\", map_location=device)\n",
    "loaded_model.eval()"
   ]
  },
  {
   "cell_type": "code",
   "execution_count": null,
   "id": "1f206f6c",
   "metadata": {
    "execution": {
     "iopub.execute_input": "2023-09-19T20:14:28.699878Z",
     "iopub.status.busy": "2023-09-19T20:14:28.699024Z",
     "iopub.status.idle": "2023-09-19T20:14:28.705978Z",
     "shell.execute_reply": "2023-09-19T20:14:28.704800Z",
     "shell.execute_reply.started": "2023-09-19T20:14:28.699809Z"
    },
    "papermill": {
     "duration": null,
     "end_time": null,
     "exception": null,
     "start_time": null,
     "status": "pending"
    },
    "tags": []
   },
   "outputs": [],
   "source": [
    "from PIL import Image"
   ]
  },
  {
   "cell_type": "code",
   "execution_count": null,
   "id": "dd89d9ee",
   "metadata": {
    "execution": {
     "iopub.execute_input": "2023-09-19T20:14:51.136304Z",
     "iopub.status.busy": "2023-09-19T20:14:51.135712Z",
     "iopub.status.idle": "2023-09-19T20:14:51.143733Z",
     "shell.execute_reply": "2023-09-19T20:14:51.142529Z",
     "shell.execute_reply.started": "2023-09-19T20:14:51.136244Z"
    },
    "papermill": {
     "duration": null,
     "end_time": null,
     "exception": null,
     "start_time": null,
     "status": "pending"
    },
    "tags": []
   },
   "outputs": [],
   "source": [
    "transforms = transforms.Compose([\n",
    "    transforms.Resize((299, 299)),\n",
    "    transforms.ToTensor(),\n",
    "    transforms.Normalize(mean=[0.485, 0.456, 0.406], std=[0.229, 0.224, 0.225])\n",
    "])"
   ]
  },
  {
   "cell_type": "code",
   "execution_count": null,
   "id": "82164d95",
   "metadata": {
    "execution": {
     "iopub.execute_input": "2023-09-19T20:15:29.699022Z",
     "iopub.status.busy": "2023-09-19T20:15:29.698326Z",
     "iopub.status.idle": "2023-09-19T20:15:29.708683Z",
     "shell.execute_reply": "2023-09-19T20:15:29.707699Z",
     "shell.execute_reply.started": "2023-09-19T20:15:29.698986Z"
    },
    "papermill": {
     "duration": null,
     "end_time": null,
     "exception": null,
     "start_time": null,
     "status": "pending"
    },
    "tags": []
   },
   "outputs": [],
   "source": [
    "image_path = \"/kaggle/input/leafwithlessrizz/SexyPlantLessDef.jpg\"  \n",
    "image = Image.open(image_path)"
   ]
  },
  {
   "cell_type": "code",
   "execution_count": null,
   "id": "61fba144",
   "metadata": {
    "execution": {
     "iopub.execute_input": "2023-09-19T20:15:33.659782Z",
     "iopub.status.busy": "2023-09-19T20:15:33.659407Z",
     "iopub.status.idle": "2023-09-19T20:15:33.899224Z",
     "shell.execute_reply": "2023-09-19T20:15:33.898240Z",
     "shell.execute_reply.started": "2023-09-19T20:15:33.659749Z"
    },
    "papermill": {
     "duration": null,
     "end_time": null,
     "exception": null,
     "start_time": null,
     "status": "pending"
    },
    "tags": []
   },
   "outputs": [],
   "source": [
    "plt.figure(figsize=(8, 4))\n",
    "plt.subplot(1, 2, 1)\n",
    "plt.title(\"Original Image\")\n",
    "plt.imshow(image)\n",
    "plt.axis('off')"
   ]
  },
  {
   "cell_type": "code",
   "execution_count": null,
   "id": "2e42e498",
   "metadata": {
    "execution": {
     "iopub.execute_input": "2023-09-19T20:15:38.538895Z",
     "iopub.status.busy": "2023-09-19T20:15:38.538173Z",
     "iopub.status.idle": "2023-09-19T20:15:38.551235Z",
     "shell.execute_reply": "2023-09-19T20:15:38.550224Z",
     "shell.execute_reply.started": "2023-09-19T20:15:38.538851Z"
    },
    "papermill": {
     "duration": null,
     "end_time": null,
     "exception": null,
     "start_time": null,
     "status": "pending"
    },
    "tags": []
   },
   "outputs": [],
   "source": [
    "input_data = transforms(image).unsqueeze(0).to(device)"
   ]
  },
  {
   "cell_type": "code",
   "execution_count": null,
   "id": "6f281060",
   "metadata": {
    "execution": {
     "iopub.execute_input": "2023-09-19T20:15:41.738920Z",
     "iopub.status.busy": "2023-09-19T20:15:41.738180Z",
     "iopub.status.idle": "2023-09-19T20:15:41.753502Z",
     "shell.execute_reply": "2023-09-19T20:15:41.752243Z",
     "shell.execute_reply.started": "2023-09-19T20:15:41.738882Z"
    },
    "papermill": {
     "duration": null,
     "end_time": null,
     "exception": null,
     "start_time": null,
     "status": "pending"
    },
    "tags": []
   },
   "outputs": [],
   "source": [
    "with torch.no_grad():\n",
    "    output = loaded_model(input_data)"
   ]
  },
  {
   "cell_type": "code",
   "execution_count": null,
   "id": "51ee6832",
   "metadata": {
    "execution": {
     "iopub.execute_input": "2023-09-19T20:15:42.929952Z",
     "iopub.status.busy": "2023-09-19T20:15:42.929223Z",
     "iopub.status.idle": "2023-09-19T20:15:42.935771Z",
     "shell.execute_reply": "2023-09-19T20:15:42.934597Z",
     "shell.execute_reply.started": "2023-09-19T20:15:42.929915Z"
    },
    "papermill": {
     "duration": null,
     "end_time": null,
     "exception": null,
     "start_time": null,
     "status": "pending"
    },
    "tags": []
   },
   "outputs": [],
   "source": [
    "_, predicted_class = output.max(1)"
   ]
  },
  {
   "cell_type": "code",
   "execution_count": null,
   "id": "1af51b2c",
   "metadata": {
    "execution": {
     "iopub.execute_input": "2023-09-19T20:15:44.213624Z",
     "iopub.status.busy": "2023-09-19T20:15:44.212915Z",
     "iopub.status.idle": "2023-09-19T20:15:44.221575Z",
     "shell.execute_reply": "2023-09-19T20:15:44.220432Z",
     "shell.execute_reply.started": "2023-09-19T20:15:44.213578Z"
    },
    "papermill": {
     "duration": null,
     "end_time": null,
     "exception": null,
     "start_time": null,
     "status": "pending"
    },
    "tags": []
   },
   "outputs": [],
   "source": [
    "predicted_class"
   ]
  },
  {
   "cell_type": "code",
   "execution_count": null,
   "id": "8306d60d",
   "metadata": {
    "execution": {
     "iopub.execute_input": "2023-09-19T20:16:21.252237Z",
     "iopub.status.busy": "2023-09-19T20:16:21.251235Z",
     "iopub.status.idle": "2023-09-19T20:16:21.258850Z",
     "shell.execute_reply": "2023-09-19T20:16:21.257726Z",
     "shell.execute_reply.started": "2023-09-19T20:16:21.252195Z"
    },
    "papermill": {
     "duration": null,
     "end_time": null,
     "exception": null,
     "start_time": null,
     "status": "pending"
    },
    "tags": []
   },
   "outputs": [],
   "source": [
    "class_to_idx = dataset.class_to_idx \n",
    "idx_to_class = {idx: class_name for class_name, idx in class_to_idx.items()}\n",
    "index = 22\n",
    "class_name = idx_to_class.get(index, \"Unknown\")  \n",
    "\n",
    "print(f\"Class name for index {index}: {class_name}\")"
   ]
  },
  {
   "cell_type": "code",
   "execution_count": null,
   "id": "32171862",
   "metadata": {
    "papermill": {
     "duration": null,
     "end_time": null,
     "exception": null,
     "start_time": null,
     "status": "pending"
    },
    "tags": []
   },
   "outputs": [],
   "source": []
  },
  {
   "cell_type": "code",
   "execution_count": null,
   "id": "62495ac9",
   "metadata": {
    "papermill": {
     "duration": null,
     "end_time": null,
     "exception": null,
     "start_time": null,
     "status": "pending"
    },
    "tags": []
   },
   "outputs": [],
   "source": []
  }
 ],
 "metadata": {
  "kernelspec": {
   "display_name": "Python 3",
   "language": "python",
   "name": "python3"
  },
  "language_info": {
   "codemirror_mode": {
    "name": "ipython",
    "version": 3
   },
   "file_extension": ".py",
   "mimetype": "text/x-python",
   "name": "python",
   "nbconvert_exporter": "python",
   "pygments_lexer": "ipython3",
   "version": "3.13.2"
  },
  "papermill": {
   "default_parameters": {},
   "duration": 36.441557,
   "end_time": "2023-09-20T08:01:39.861228",
   "environment_variables": {},
   "exception": true,
   "input_path": "__notebook__.ipynb",
   "output_path": "__notebook__.ipynb",
   "parameters": {},
   "start_time": "2023-09-20T08:01:03.419671",
   "version": "2.3.4"
  },
  "widgets": {
   "application/vnd.jupyter.widget-state+json": {
    "state": {
     "000f7ec39005450cb72c1e0a74815c74": {
      "model_module": "@jupyter-widgets/base",
      "model_module_version": "1.2.0",
      "model_name": "LayoutModel",
      "state": {
       "_model_module": "@jupyter-widgets/base",
       "_model_module_version": "1.2.0",
       "_model_name": "LayoutModel",
       "_view_count": null,
       "_view_module": "@jupyter-widgets/base",
       "_view_module_version": "1.2.0",
       "_view_name": "LayoutView",
       "align_content": null,
       "align_items": null,
       "align_self": null,
       "border": null,
       "bottom": null,
       "display": null,
       "flex": null,
       "flex_flow": null,
       "grid_area": null,
       "grid_auto_columns": null,
       "grid_auto_flow": null,
       "grid_auto_rows": null,
       "grid_column": null,
       "grid_gap": null,
       "grid_row": null,
       "grid_template_areas": null,
       "grid_template_columns": null,
       "grid_template_rows": null,
       "height": null,
       "justify_content": null,
       "justify_items": null,
       "left": null,
       "margin": null,
       "max_height": null,
       "max_width": null,
       "min_height": null,
       "min_width": null,
       "object_fit": null,
       "object_position": null,
       "order": null,
       "overflow": null,
       "overflow_x": null,
       "overflow_y": null,
       "padding": null,
       "right": null,
       "top": null,
       "visibility": null,
       "width": null
      }
     },
     "0b0ed15bb46a4b50ae6b1db322fc0f6f": {
      "model_module": "@jupyter-widgets/controls",
      "model_module_version": "1.5.0",
      "model_name": "HTMLModel",
      "state": {
       "_dom_classes": [],
       "_model_module": "@jupyter-widgets/controls",
       "_model_module_version": "1.5.0",
       "_model_name": "HTMLModel",
       "_view_count": null,
       "_view_module": "@jupyter-widgets/controls",
       "_view_module_version": "1.5.0",
       "_view_name": "HTMLView",
       "description": "",
       "description_tooltip": null,
       "layout": "IPY_MODEL_1410bbd362d64e928bbb18f41e52b461",
       "placeholder": "​",
       "style": "IPY_MODEL_227488773da44ed7a3614fec6ba9a36a",
       "value": "100%"
      }
     },
     "1410bbd362d64e928bbb18f41e52b461": {
      "model_module": "@jupyter-widgets/base",
      "model_module_version": "1.2.0",
      "model_name": "LayoutModel",
      "state": {
       "_model_module": "@jupyter-widgets/base",
       "_model_module_version": "1.2.0",
       "_model_name": "LayoutModel",
       "_view_count": null,
       "_view_module": "@jupyter-widgets/base",
       "_view_module_version": "1.2.0",
       "_view_name": "LayoutView",
       "align_content": null,
       "align_items": null,
       "align_self": null,
       "border": null,
       "bottom": null,
       "display": null,
       "flex": null,
       "flex_flow": null,
       "grid_area": null,
       "grid_auto_columns": null,
       "grid_auto_flow": null,
       "grid_auto_rows": null,
       "grid_column": null,
       "grid_gap": null,
       "grid_row": null,
       "grid_template_areas": null,
       "grid_template_columns": null,
       "grid_template_rows": null,
       "height": null,
       "justify_content": null,
       "justify_items": null,
       "left": null,
       "margin": null,
       "max_height": null,
       "max_width": null,
       "min_height": null,
       "min_width": null,
       "object_fit": null,
       "object_position": null,
       "order": null,
       "overflow": null,
       "overflow_x": null,
       "overflow_y": null,
       "padding": null,
       "right": null,
       "top": null,
       "visibility": null,
       "width": null
      }
     },
     "227488773da44ed7a3614fec6ba9a36a": {
      "model_module": "@jupyter-widgets/controls",
      "model_module_version": "1.5.0",
      "model_name": "DescriptionStyleModel",
      "state": {
       "_model_module": "@jupyter-widgets/controls",
       "_model_module_version": "1.5.0",
       "_model_name": "DescriptionStyleModel",
       "_view_count": null,
       "_view_module": "@jupyter-widgets/base",
       "_view_module_version": "1.2.0",
       "_view_name": "StyleView",
       "description_width": ""
      }
     },
     "23d285e970994f8997db8ad70166fbb6": {
      "model_module": "@jupyter-widgets/controls",
      "model_module_version": "1.5.0",
      "model_name": "DescriptionStyleModel",
      "state": {
       "_model_module": "@jupyter-widgets/controls",
       "_model_module_version": "1.5.0",
       "_model_name": "DescriptionStyleModel",
       "_view_count": null,
       "_view_module": "@jupyter-widgets/base",
       "_view_module_version": "1.2.0",
       "_view_name": "StyleView",
       "description_width": ""
      }
     },
     "2a8421611fb642749f90b634f3f5319d": {
      "model_module": "@jupyter-widgets/base",
      "model_module_version": "1.2.0",
      "model_name": "LayoutModel",
      "state": {
       "_model_module": "@jupyter-widgets/base",
       "_model_module_version": "1.2.0",
       "_model_name": "LayoutModel",
       "_view_count": null,
       "_view_module": "@jupyter-widgets/base",
       "_view_module_version": "1.2.0",
       "_view_name": "LayoutView",
       "align_content": null,
       "align_items": null,
       "align_self": null,
       "border": null,
       "bottom": null,
       "display": null,
       "flex": null,
       "flex_flow": null,
       "grid_area": null,
       "grid_auto_columns": null,
       "grid_auto_flow": null,
       "grid_auto_rows": null,
       "grid_column": null,
       "grid_gap": null,
       "grid_row": null,
       "grid_template_areas": null,
       "grid_template_columns": null,
       "grid_template_rows": null,
       "height": null,
       "justify_content": null,
       "justify_items": null,
       "left": null,
       "margin": null,
       "max_height": null,
       "max_width": null,
       "min_height": null,
       "min_width": null,
       "object_fit": null,
       "object_position": null,
       "order": null,
       "overflow": null,
       "overflow_x": null,
       "overflow_y": null,
       "padding": null,
       "right": null,
       "top": null,
       "visibility": null,
       "width": null
      }
     },
     "341aa5c1a2c941fba97edaed9bf805d0": {
      "model_module": "@jupyter-widgets/controls",
      "model_module_version": "1.5.0",
      "model_name": "FloatProgressModel",
      "state": {
       "_dom_classes": [],
       "_model_module": "@jupyter-widgets/controls",
       "_model_module_version": "1.5.0",
       "_model_name": "FloatProgressModel",
       "_view_count": null,
       "_view_module": "@jupyter-widgets/controls",
       "_view_module_version": "1.5.0",
       "_view_name": "ProgressView",
       "bar_style": "success",
       "description": "",
       "description_tooltip": null,
       "layout": "IPY_MODEL_61c4c6bbd679459fbbf6ac3a17292769",
       "max": 553433881,
       "min": 0,
       "orientation": "horizontal",
       "style": "IPY_MODEL_35de44e3ba3b41a782a550c895935188",
       "value": 553433881
      }
     },
     "35de44e3ba3b41a782a550c895935188": {
      "model_module": "@jupyter-widgets/controls",
      "model_module_version": "1.5.0",
      "model_name": "ProgressStyleModel",
      "state": {
       "_model_module": "@jupyter-widgets/controls",
       "_model_module_version": "1.5.0",
       "_model_name": "ProgressStyleModel",
       "_view_count": null,
       "_view_module": "@jupyter-widgets/base",
       "_view_module_version": "1.2.0",
       "_view_name": "StyleView",
       "bar_color": null,
       "description_width": ""
      }
     },
     "38d6c7c7054c4eabb70363f9500445b3": {
      "model_module": "@jupyter-widgets/controls",
      "model_module_version": "1.5.0",
      "model_name": "DescriptionStyleModel",
      "state": {
       "_model_module": "@jupyter-widgets/controls",
       "_model_module_version": "1.5.0",
       "_model_name": "DescriptionStyleModel",
       "_view_count": null,
       "_view_module": "@jupyter-widgets/base",
       "_view_module_version": "1.2.0",
       "_view_name": "StyleView",
       "description_width": ""
      }
     },
     "3e30a6e4174e4b17873ee9f7cecc4257": {
      "model_module": "@jupyter-widgets/base",
      "model_module_version": "1.2.0",
      "model_name": "LayoutModel",
      "state": {
       "_model_module": "@jupyter-widgets/base",
       "_model_module_version": "1.2.0",
       "_model_name": "LayoutModel",
       "_view_count": null,
       "_view_module": "@jupyter-widgets/base",
       "_view_module_version": "1.2.0",
       "_view_name": "LayoutView",
       "align_content": null,
       "align_items": null,
       "align_self": null,
       "border": null,
       "bottom": null,
       "display": null,
       "flex": null,
       "flex_flow": null,
       "grid_area": null,
       "grid_auto_columns": null,
       "grid_auto_flow": null,
       "grid_auto_rows": null,
       "grid_column": null,
       "grid_gap": null,
       "grid_row": null,
       "grid_template_areas": null,
       "grid_template_columns": null,
       "grid_template_rows": null,
       "height": null,
       "justify_content": null,
       "justify_items": null,
       "left": null,
       "margin": null,
       "max_height": null,
       "max_width": null,
       "min_height": null,
       "min_width": null,
       "object_fit": null,
       "object_position": null,
       "order": null,
       "overflow": null,
       "overflow_x": null,
       "overflow_y": null,
       "padding": null,
       "right": null,
       "top": null,
       "visibility": null,
       "width": null
      }
     },
     "432288e794ee42cebae791cf8e876add": {
      "model_module": "@jupyter-widgets/controls",
      "model_module_version": "1.5.0",
      "model_name": "HTMLModel",
      "state": {
       "_dom_classes": [],
       "_model_module": "@jupyter-widgets/controls",
       "_model_module_version": "1.5.0",
       "_model_name": "HTMLModel",
       "_view_count": null,
       "_view_module": "@jupyter-widgets/controls",
       "_view_module_version": "1.5.0",
       "_view_name": "HTMLView",
       "description": "",
       "description_tooltip": null,
       "layout": "IPY_MODEL_c4e2a63aa5d74182a19bb0fd1b32d6e6",
       "placeholder": "​",
       "style": "IPY_MODEL_38d6c7c7054c4eabb70363f9500445b3",
       "value": " 528M/528M [00:18&lt;00:00, 31.7MB/s]"
      }
     },
     "55bd7bc20198456d83d27ecce006a9bc": {
      "model_module": "@jupyter-widgets/controls",
      "model_module_version": "1.5.0",
      "model_name": "HTMLModel",
      "state": {
       "_dom_classes": [],
       "_model_module": "@jupyter-widgets/controls",
       "_model_module_version": "1.5.0",
       "_model_name": "HTMLModel",
       "_view_count": null,
       "_view_module": "@jupyter-widgets/controls",
       "_view_module_version": "1.5.0",
       "_view_name": "HTMLView",
       "description": "",
       "description_tooltip": null,
       "layout": "IPY_MODEL_dc3e1e2ca6b8420a9aa031b65aee052e",
       "placeholder": "​",
       "style": "IPY_MODEL_b08221e37a014ae29c91b620f1e85b79",
       "value": " 13.6M/13.6M [00:00&lt;00:00, 17.8MB/s]"
      }
     },
     "5d5991ca75bd4bdcae0a9be14eb231bc": {
      "model_module": "@jupyter-widgets/controls",
      "model_module_version": "1.5.0",
      "model_name": "HBoxModel",
      "state": {
       "_dom_classes": [],
       "_model_module": "@jupyter-widgets/controls",
       "_model_module_version": "1.5.0",
       "_model_name": "HBoxModel",
       "_view_count": null,
       "_view_module": "@jupyter-widgets/controls",
       "_view_module_version": "1.5.0",
       "_view_name": "HBoxView",
       "box_style": "",
       "children": [
        "IPY_MODEL_fbb7343a0629452bb94655b8a1ce0a2d",
        "IPY_MODEL_341aa5c1a2c941fba97edaed9bf805d0",
        "IPY_MODEL_432288e794ee42cebae791cf8e876add"
       ],
       "layout": "IPY_MODEL_8dc5eeedd7a74e5aaa1e110fd91f5bfa"
      }
     },
     "5e70df9650fb49d199e4b7315f170303": {
      "model_module": "@jupyter-widgets/controls",
      "model_module_version": "1.5.0",
      "model_name": "FloatProgressModel",
      "state": {
       "_dom_classes": [],
       "_model_module": "@jupyter-widgets/controls",
       "_model_module_version": "1.5.0",
       "_model_name": "FloatProgressModel",
       "_view_count": null,
       "_view_module": "@jupyter-widgets/controls",
       "_view_module_version": "1.5.0",
       "_view_name": "ProgressView",
       "bar_style": "success",
       "description": "",
       "description_tooltip": null,
       "layout": "IPY_MODEL_2a8421611fb642749f90b634f3f5319d",
       "max": 14212972,
       "min": 0,
       "orientation": "horizontal",
       "style": "IPY_MODEL_7ef33f72d5e14e798baa7d8c1f31a160",
       "value": 14212972
      }
     },
     "5fa7a02e34a2472e81f2dac929f73f8e": {
      "model_module": "@jupyter-widgets/controls",
      "model_module_version": "1.5.0",
      "model_name": "HBoxModel",
      "state": {
       "_dom_classes": [],
       "_model_module": "@jupyter-widgets/controls",
       "_model_module_version": "1.5.0",
       "_model_name": "HBoxModel",
       "_view_count": null,
       "_view_module": "@jupyter-widgets/controls",
       "_view_module_version": "1.5.0",
       "_view_name": "HBoxView",
       "box_style": "",
       "children": [
        "IPY_MODEL_6937413f806d448b9720daa281d2a270",
        "IPY_MODEL_5e70df9650fb49d199e4b7315f170303",
        "IPY_MODEL_55bd7bc20198456d83d27ecce006a9bc"
       ],
       "layout": "IPY_MODEL_3e30a6e4174e4b17873ee9f7cecc4257"
      }
     },
     "61830a0f9aed4a2ea08389dcb08c4c77": {
      "model_module": "@jupyter-widgets/controls",
      "model_module_version": "1.5.0",
      "model_name": "DescriptionStyleModel",
      "state": {
       "_model_module": "@jupyter-widgets/controls",
       "_model_module_version": "1.5.0",
       "_model_name": "DescriptionStyleModel",
       "_view_count": null,
       "_view_module": "@jupyter-widgets/base",
       "_view_module_version": "1.2.0",
       "_view_name": "StyleView",
       "description_width": ""
      }
     },
     "61c4c6bbd679459fbbf6ac3a17292769": {
      "model_module": "@jupyter-widgets/base",
      "model_module_version": "1.2.0",
      "model_name": "LayoutModel",
      "state": {
       "_model_module": "@jupyter-widgets/base",
       "_model_module_version": "1.2.0",
       "_model_name": "LayoutModel",
       "_view_count": null,
       "_view_module": "@jupyter-widgets/base",
       "_view_module_version": "1.2.0",
       "_view_name": "LayoutView",
       "align_content": null,
       "align_items": null,
       "align_self": null,
       "border": null,
       "bottom": null,
       "display": null,
       "flex": null,
       "flex_flow": null,
       "grid_area": null,
       "grid_auto_columns": null,
       "grid_auto_flow": null,
       "grid_auto_rows": null,
       "grid_column": null,
       "grid_gap": null,
       "grid_row": null,
       "grid_template_areas": null,
       "grid_template_columns": null,
       "grid_template_rows": null,
       "height": null,
       "justify_content": null,
       "justify_items": null,
       "left": null,
       "margin": null,
       "max_height": null,
       "max_width": null,
       "min_height": null,
       "min_width": null,
       "object_fit": null,
       "object_position": null,
       "order": null,
       "overflow": null,
       "overflow_x": null,
       "overflow_y": null,
       "padding": null,
       "right": null,
       "top": null,
       "visibility": null,
       "width": null
      }
     },
     "6622f1fae89e4c879d43cf1e2fcb083e": {
      "model_module": "@jupyter-widgets/base",
      "model_module_version": "1.2.0",
      "model_name": "LayoutModel",
      "state": {
       "_model_module": "@jupyter-widgets/base",
       "_model_module_version": "1.2.0",
       "_model_name": "LayoutModel",
       "_view_count": null,
       "_view_module": "@jupyter-widgets/base",
       "_view_module_version": "1.2.0",
       "_view_name": "LayoutView",
       "align_content": null,
       "align_items": null,
       "align_self": null,
       "border": null,
       "bottom": null,
       "display": null,
       "flex": null,
       "flex_flow": null,
       "grid_area": null,
       "grid_auto_columns": null,
       "grid_auto_flow": null,
       "grid_auto_rows": null,
       "grid_column": null,
       "grid_gap": null,
       "grid_row": null,
       "grid_template_areas": null,
       "grid_template_columns": null,
       "grid_template_rows": null,
       "height": null,
       "justify_content": null,
       "justify_items": null,
       "left": null,
       "margin": null,
       "max_height": null,
       "max_width": null,
       "min_height": null,
       "min_width": null,
       "object_fit": null,
       "object_position": null,
       "order": null,
       "overflow": null,
       "overflow_x": null,
       "overflow_y": null,
       "padding": null,
       "right": null,
       "top": null,
       "visibility": null,
       "width": null
      }
     },
     "6937413f806d448b9720daa281d2a270": {
      "model_module": "@jupyter-widgets/controls",
      "model_module_version": "1.5.0",
      "model_name": "HTMLModel",
      "state": {
       "_dom_classes": [],
       "_model_module": "@jupyter-widgets/controls",
       "_model_module_version": "1.5.0",
       "_model_name": "HTMLModel",
       "_view_count": null,
       "_view_module": "@jupyter-widgets/controls",
       "_view_module_version": "1.5.0",
       "_view_name": "HTMLView",
       "description": "",
       "description_tooltip": null,
       "layout": "IPY_MODEL_6622f1fae89e4c879d43cf1e2fcb083e",
       "placeholder": "​",
       "style": "IPY_MODEL_61830a0f9aed4a2ea08389dcb08c4c77",
       "value": "100%"
      }
     },
     "7ef33f72d5e14e798baa7d8c1f31a160": {
      "model_module": "@jupyter-widgets/controls",
      "model_module_version": "1.5.0",
      "model_name": "ProgressStyleModel",
      "state": {
       "_model_module": "@jupyter-widgets/controls",
       "_model_module_version": "1.5.0",
       "_model_name": "ProgressStyleModel",
       "_view_count": null,
       "_view_module": "@jupyter-widgets/base",
       "_view_module_version": "1.2.0",
       "_view_name": "StyleView",
       "bar_color": null,
       "description_width": ""
      }
     },
     "8183f85eaf564ad08790b8c686b3e59d": {
      "model_module": "@jupyter-widgets/controls",
      "model_module_version": "1.5.0",
      "model_name": "DescriptionStyleModel",
      "state": {
       "_model_module": "@jupyter-widgets/controls",
       "_model_module_version": "1.5.0",
       "_model_name": "DescriptionStyleModel",
       "_view_count": null,
       "_view_module": "@jupyter-widgets/base",
       "_view_module_version": "1.2.0",
       "_view_name": "StyleView",
       "description_width": ""
      }
     },
     "8306a05940b349f5a1bbd4d1e387b093": {
      "model_module": "@jupyter-widgets/base",
      "model_module_version": "1.2.0",
      "model_name": "LayoutModel",
      "state": {
       "_model_module": "@jupyter-widgets/base",
       "_model_module_version": "1.2.0",
       "_model_name": "LayoutModel",
       "_view_count": null,
       "_view_module": "@jupyter-widgets/base",
       "_view_module_version": "1.2.0",
       "_view_name": "LayoutView",
       "align_content": null,
       "align_items": null,
       "align_self": null,
       "border": null,
       "bottom": null,
       "display": null,
       "flex": null,
       "flex_flow": null,
       "grid_area": null,
       "grid_auto_columns": null,
       "grid_auto_flow": null,
       "grid_auto_rows": null,
       "grid_column": null,
       "grid_gap": null,
       "grid_row": null,
       "grid_template_areas": null,
       "grid_template_columns": null,
       "grid_template_rows": null,
       "height": null,
       "justify_content": null,
       "justify_items": null,
       "left": null,
       "margin": null,
       "max_height": null,
       "max_width": null,
       "min_height": null,
       "min_width": null,
       "object_fit": null,
       "object_position": null,
       "order": null,
       "overflow": null,
       "overflow_x": null,
       "overflow_y": null,
       "padding": null,
       "right": null,
       "top": null,
       "visibility": null,
       "width": null
      }
     },
     "89687f115bf3481fba9e75961f10e9b5": {
      "model_module": "@jupyter-widgets/base",
      "model_module_version": "1.2.0",
      "model_name": "LayoutModel",
      "state": {
       "_model_module": "@jupyter-widgets/base",
       "_model_module_version": "1.2.0",
       "_model_name": "LayoutModel",
       "_view_count": null,
       "_view_module": "@jupyter-widgets/base",
       "_view_module_version": "1.2.0",
       "_view_name": "LayoutView",
       "align_content": null,
       "align_items": null,
       "align_self": null,
       "border": null,
       "bottom": null,
       "display": null,
       "flex": null,
       "flex_flow": null,
       "grid_area": null,
       "grid_auto_columns": null,
       "grid_auto_flow": null,
       "grid_auto_rows": null,
       "grid_column": null,
       "grid_gap": null,
       "grid_row": null,
       "grid_template_areas": null,
       "grid_template_columns": null,
       "grid_template_rows": null,
       "height": null,
       "justify_content": null,
       "justify_items": null,
       "left": null,
       "margin": null,
       "max_height": null,
       "max_width": null,
       "min_height": null,
       "min_width": null,
       "object_fit": null,
       "object_position": null,
       "order": null,
       "overflow": null,
       "overflow_x": null,
       "overflow_y": null,
       "padding": null,
       "right": null,
       "top": null,
       "visibility": null,
       "width": null
      }
     },
     "8a6e568309a04de8936cc3d0225c757c": {
      "model_module": "@jupyter-widgets/controls",
      "model_module_version": "1.5.0",
      "model_name": "HBoxModel",
      "state": {
       "_dom_classes": [],
       "_model_module": "@jupyter-widgets/controls",
       "_model_module_version": "1.5.0",
       "_model_name": "HBoxModel",
       "_view_count": null,
       "_view_module": "@jupyter-widgets/controls",
       "_view_module_version": "1.5.0",
       "_view_name": "HBoxView",
       "box_style": "",
       "children": [
        "IPY_MODEL_0b0ed15bb46a4b50ae6b1db322fc0f6f",
        "IPY_MODEL_be77b24b06d5405892c41f305231ee4c",
        "IPY_MODEL_cc75d80783324051ac9db6bcd1b4eccd"
       ],
       "layout": "IPY_MODEL_000f7ec39005450cb72c1e0a74815c74"
      }
     },
     "8dc5eeedd7a74e5aaa1e110fd91f5bfa": {
      "model_module": "@jupyter-widgets/base",
      "model_module_version": "1.2.0",
      "model_name": "LayoutModel",
      "state": {
       "_model_module": "@jupyter-widgets/base",
       "_model_module_version": "1.2.0",
       "_model_name": "LayoutModel",
       "_view_count": null,
       "_view_module": "@jupyter-widgets/base",
       "_view_module_version": "1.2.0",
       "_view_name": "LayoutView",
       "align_content": null,
       "align_items": null,
       "align_self": null,
       "border": null,
       "bottom": null,
       "display": null,
       "flex": null,
       "flex_flow": null,
       "grid_area": null,
       "grid_auto_columns": null,
       "grid_auto_flow": null,
       "grid_auto_rows": null,
       "grid_column": null,
       "grid_gap": null,
       "grid_row": null,
       "grid_template_areas": null,
       "grid_template_columns": null,
       "grid_template_rows": null,
       "height": null,
       "justify_content": null,
       "justify_items": null,
       "left": null,
       "margin": null,
       "max_height": null,
       "max_width": null,
       "min_height": null,
       "min_width": null,
       "object_fit": null,
       "object_position": null,
       "order": null,
       "overflow": null,
       "overflow_x": null,
       "overflow_y": null,
       "padding": null,
       "right": null,
       "top": null,
       "visibility": null,
       "width": null
      }
     },
     "9d17728fc4c14e3aa348deef7e1ce719": {
      "model_module": "@jupyter-widgets/base",
      "model_module_version": "1.2.0",
      "model_name": "LayoutModel",
      "state": {
       "_model_module": "@jupyter-widgets/base",
       "_model_module_version": "1.2.0",
       "_model_name": "LayoutModel",
       "_view_count": null,
       "_view_module": "@jupyter-widgets/base",
       "_view_module_version": "1.2.0",
       "_view_name": "LayoutView",
       "align_content": null,
       "align_items": null,
       "align_self": null,
       "border": null,
       "bottom": null,
       "display": null,
       "flex": null,
       "flex_flow": null,
       "grid_area": null,
       "grid_auto_columns": null,
       "grid_auto_flow": null,
       "grid_auto_rows": null,
       "grid_column": null,
       "grid_gap": null,
       "grid_row": null,
       "grid_template_areas": null,
       "grid_template_columns": null,
       "grid_template_rows": null,
       "height": null,
       "justify_content": null,
       "justify_items": null,
       "left": null,
       "margin": null,
       "max_height": null,
       "max_width": null,
       "min_height": null,
       "min_width": null,
       "object_fit": null,
       "object_position": null,
       "order": null,
       "overflow": null,
       "overflow_x": null,
       "overflow_y": null,
       "padding": null,
       "right": null,
       "top": null,
       "visibility": null,
       "width": null
      }
     },
     "b08221e37a014ae29c91b620f1e85b79": {
      "model_module": "@jupyter-widgets/controls",
      "model_module_version": "1.5.0",
      "model_name": "DescriptionStyleModel",
      "state": {
       "_model_module": "@jupyter-widgets/controls",
       "_model_module_version": "1.5.0",
       "_model_name": "DescriptionStyleModel",
       "_view_count": null,
       "_view_module": "@jupyter-widgets/base",
       "_view_module_version": "1.2.0",
       "_view_name": "StyleView",
       "description_width": ""
      }
     },
     "b13623d3f7be44cc8f02b7019dd636f5": {
      "model_module": "@jupyter-widgets/controls",
      "model_module_version": "1.5.0",
      "model_name": "ProgressStyleModel",
      "state": {
       "_model_module": "@jupyter-widgets/controls",
       "_model_module_version": "1.5.0",
       "_model_name": "ProgressStyleModel",
       "_view_count": null,
       "_view_module": "@jupyter-widgets/base",
       "_view_module_version": "1.2.0",
       "_view_name": "StyleView",
       "bar_color": null,
       "description_width": ""
      }
     },
     "be77b24b06d5405892c41f305231ee4c": {
      "model_module": "@jupyter-widgets/controls",
      "model_module_version": "1.5.0",
      "model_name": "FloatProgressModel",
      "state": {
       "_dom_classes": [],
       "_model_module": "@jupyter-widgets/controls",
       "_model_module_version": "1.5.0",
       "_model_name": "FloatProgressModel",
       "_view_count": null,
       "_view_module": "@jupyter-widgets/controls",
       "_view_module_version": "1.5.0",
       "_view_name": "ProgressView",
       "bar_style": "success",
       "description": "",
       "description_tooltip": null,
       "layout": "IPY_MODEL_89687f115bf3481fba9e75961f10e9b5",
       "max": 46830571,
       "min": 0,
       "orientation": "horizontal",
       "style": "IPY_MODEL_b13623d3f7be44cc8f02b7019dd636f5",
       "value": 46830571
      }
     },
     "c4e2a63aa5d74182a19bb0fd1b32d6e6": {
      "model_module": "@jupyter-widgets/base",
      "model_module_version": "1.2.0",
      "model_name": "LayoutModel",
      "state": {
       "_model_module": "@jupyter-widgets/base",
       "_model_module_version": "1.2.0",
       "_model_name": "LayoutModel",
       "_view_count": null,
       "_view_module": "@jupyter-widgets/base",
       "_view_module_version": "1.2.0",
       "_view_name": "LayoutView",
       "align_content": null,
       "align_items": null,
       "align_self": null,
       "border": null,
       "bottom": null,
       "display": null,
       "flex": null,
       "flex_flow": null,
       "grid_area": null,
       "grid_auto_columns": null,
       "grid_auto_flow": null,
       "grid_auto_rows": null,
       "grid_column": null,
       "grid_gap": null,
       "grid_row": null,
       "grid_template_areas": null,
       "grid_template_columns": null,
       "grid_template_rows": null,
       "height": null,
       "justify_content": null,
       "justify_items": null,
       "left": null,
       "margin": null,
       "max_height": null,
       "max_width": null,
       "min_height": null,
       "min_width": null,
       "object_fit": null,
       "object_position": null,
       "order": null,
       "overflow": null,
       "overflow_x": null,
       "overflow_y": null,
       "padding": null,
       "right": null,
       "top": null,
       "visibility": null,
       "width": null
      }
     },
     "cc75d80783324051ac9db6bcd1b4eccd": {
      "model_module": "@jupyter-widgets/controls",
      "model_module_version": "1.5.0",
      "model_name": "HTMLModel",
      "state": {
       "_dom_classes": [],
       "_model_module": "@jupyter-widgets/controls",
       "_model_module_version": "1.5.0",
       "_model_name": "HTMLModel",
       "_view_count": null,
       "_view_module": "@jupyter-widgets/controls",
       "_view_module_version": "1.5.0",
       "_view_name": "HTMLView",
       "description": "",
       "description_tooltip": null,
       "layout": "IPY_MODEL_9d17728fc4c14e3aa348deef7e1ce719",
       "placeholder": "​",
       "style": "IPY_MODEL_8183f85eaf564ad08790b8c686b3e59d",
       "value": " 44.7M/44.7M [00:00&lt;00:00, 120MB/s]"
      }
     },
     "dc3e1e2ca6b8420a9aa031b65aee052e": {
      "model_module": "@jupyter-widgets/base",
      "model_module_version": "1.2.0",
      "model_name": "LayoutModel",
      "state": {
       "_model_module": "@jupyter-widgets/base",
       "_model_module_version": "1.2.0",
       "_model_name": "LayoutModel",
       "_view_count": null,
       "_view_module": "@jupyter-widgets/base",
       "_view_module_version": "1.2.0",
       "_view_name": "LayoutView",
       "align_content": null,
       "align_items": null,
       "align_self": null,
       "border": null,
       "bottom": null,
       "display": null,
       "flex": null,
       "flex_flow": null,
       "grid_area": null,
       "grid_auto_columns": null,
       "grid_auto_flow": null,
       "grid_auto_rows": null,
       "grid_column": null,
       "grid_gap": null,
       "grid_row": null,
       "grid_template_areas": null,
       "grid_template_columns": null,
       "grid_template_rows": null,
       "height": null,
       "justify_content": null,
       "justify_items": null,
       "left": null,
       "margin": null,
       "max_height": null,
       "max_width": null,
       "min_height": null,
       "min_width": null,
       "object_fit": null,
       "object_position": null,
       "order": null,
       "overflow": null,
       "overflow_x": null,
       "overflow_y": null,
       "padding": null,
       "right": null,
       "top": null,
       "visibility": null,
       "width": null
      }
     },
     "fbb7343a0629452bb94655b8a1ce0a2d": {
      "model_module": "@jupyter-widgets/controls",
      "model_module_version": "1.5.0",
      "model_name": "HTMLModel",
      "state": {
       "_dom_classes": [],
       "_model_module": "@jupyter-widgets/controls",
       "_model_module_version": "1.5.0",
       "_model_name": "HTMLModel",
       "_view_count": null,
       "_view_module": "@jupyter-widgets/controls",
       "_view_module_version": "1.5.0",
       "_view_name": "HTMLView",
       "description": "",
       "description_tooltip": null,
       "layout": "IPY_MODEL_8306a05940b349f5a1bbd4d1e387b093",
       "placeholder": "​",
       "style": "IPY_MODEL_23d285e970994f8997db8ad70166fbb6",
       "value": "100%"
      }
     }
    },
    "version_major": 2,
    "version_minor": 0
   }
  }
 },
 "nbformat": 4,
 "nbformat_minor": 5
}
